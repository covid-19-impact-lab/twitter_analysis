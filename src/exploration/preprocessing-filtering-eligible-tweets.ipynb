{
 "cells": [
  {
   "cell_type": "markdown",
   "metadata": {},
   "source": [
    "# Sampling tweets\n",
    "\n",
    "- Only English and German tweets.\n",
    "- Character limit 50\n",
    "- "
   ]
  },
  {
   "cell_type": "code",
   "execution_count": 1,
   "metadata": {},
   "outputs": [],
   "source": [
    "import sys\n",
    "sys.path.append(\"../..\")\n",
    "\n",
    "import numpy as np\n",
    "import dask.dataframe as dd\n",
    "import pyarrow.parquet as pq\n",
    "import pandas as pd\n",
    "\n",
    "from pathlib import Path\n",
    "from bld.project_paths import project_paths_join as ppj"
   ]
  },
  {
   "cell_type": "code",
   "execution_count": 53,
   "metadata": {},
   "outputs": [],
   "source": [
    "df = pd.read_pickle(ppj(\"OUT_DATA\", \"data_clean.pkl\"))"
   ]
  },
  {
   "cell_type": "code",
   "execution_count": 54,
   "metadata": {},
   "outputs": [],
   "source": [
    "def replace_urls(df):\n",
    "    \"\"\"Replace urls in tweets with token.\n",
    "    \n",
    "    We replace urls in the tweets with the token `[URL]` and do the following two steps.\n",
    "    \n",
    "    1. Use the urls scraped with the tweets and replace them.\n",
    "    2. Use a generic regex to remove other urls\n",
    "    \n",
    "    The url regex is taken from http://www.urlregex.com/.\n",
    "    \n",
    "    \"\"\"\n",
    "    url_not_na = df.urls.notna()\n",
    "    df.loc[url_not_na, \"text\"] = df.loc[url_not_na].apply(lambda x: x.text.replace(x.urls, \"[URL]\"), axis=1)\n",
    "    \n",
    "    url_regex = r\"http[s]?://(?:[a-zA-Z]|[0-9]|[$-_@.&+]|[!*\\(\\),]|(?:%[0-9a-fA-F][0-9a-fA-F]))+\"\n",
    "    df.text = df.text.str.replace(url_regex, \"[URL]\")\n",
    "    \n",
    "    return df\n",
    "\n",
    "\n",
    "def replace_mentions(df):\n",
    "    \"\"\"Replace mentions in tweets with token.\n",
    "    \n",
    "    Use the mentions scraped with the tweet and replace them.\n",
    "    \n",
    "    After this process, there are still @<whatever> expressions in the tweets which look like\n",
    "    the users wanted to use hashtags instead. But, only for less than 3% of tweets.\n",
    "    \n",
    "    \"\"\"\n",
    "    def _replace_mentions_row(row):\n",
    "        for mention in row.mentions.split(\" \"):\n",
    "            row.text = row.text.replace(mention, \"[MNT]\")\n",
    "        return row\n",
    "    \n",
    "    mention_not_na = df.mentions.notna()\n",
    "    df.loc[mention_not_na, \"text\"] = df.loc[mention_not_na].apply(\n",
    "        lambda x: _replace_mentions_row(x), axis=1\n",
    "    )\n",
    "    \n",
    "    return df"
   ]
  },
  {
   "cell_type": "code",
   "execution_count": 55,
   "metadata": {},
   "outputs": [],
   "source": [
    "df = replace_urls(df)"
   ]
  },
  {
   "cell_type": "code",
   "execution_count": 56,
   "metadata": {},
   "outputs": [],
   "source": [
    "df = replace_mentions(df)"
   ]
  },
  {
   "cell_type": "code",
   "execution_count": 111,
   "metadata": {},
   "outputs": [
    {
     "data": {
      "text/plain": [
       "(31713, 12)"
      ]
     },
     "execution_count": 111,
     "metadata": {},
     "output_type": "execute_result"
    }
   ],
   "source": [
    "df.shape"
   ]
  },
  {
   "cell_type": "code",
   "execution_count": 110,
   "metadata": {},
   "outputs": [
    {
     "data": {
      "text/html": [
       "<div>\n",
       "<style scoped>\n",
       "    .dataframe tbody tr th:only-of-type {\n",
       "        vertical-align: middle;\n",
       "    }\n",
       "\n",
       "    .dataframe tbody tr th {\n",
       "        vertical-align: top;\n",
       "    }\n",
       "\n",
       "    .dataframe thead th {\n",
       "        text-align: right;\n",
       "    }\n",
       "</style>\n",
       "<table border=\"1\" class=\"dataframe\">\n",
       "  <thead>\n",
       "    <tr style=\"text-align: right;\">\n",
       "      <th></th>\n",
       "      <th>username</th>\n",
       "      <th>to</th>\n",
       "      <th>text</th>\n",
       "      <th>retweets</th>\n",
       "      <th>favorites</th>\n",
       "      <th>replies</th>\n",
       "      <th>permalink</th>\n",
       "      <th>author_id</th>\n",
       "      <th>date</th>\n",
       "      <th>hashtags</th>\n",
       "      <th>mentions</th>\n",
       "      <th>urls</th>\n",
       "    </tr>\n",
       "    <tr>\n",
       "      <th>id</th>\n",
       "      <th></th>\n",
       "      <th></th>\n",
       "      <th></th>\n",
       "      <th></th>\n",
       "      <th></th>\n",
       "      <th></th>\n",
       "      <th></th>\n",
       "      <th></th>\n",
       "      <th></th>\n",
       "      <th></th>\n",
       "      <th></th>\n",
       "      <th></th>\n",
       "    </tr>\n",
       "  </thead>\n",
       "  <tbody>\n",
       "    <tr>\n",
       "      <td>1238398657575223296</td>\n",
       "      <td>Vallisblog</td>\n",
       "      <td>NaN</td>\n",
       "      <td>VALLIS BLOG: Kampf gegen Corona: International...</td>\n",
       "      <td>0</td>\n",
       "      <td>0</td>\n",
       "      <td>0</td>\n",
       "      <td>https://twitter.com/Vallisblog/status/12383986...</td>\n",
       "      <td>20895633</td>\n",
       "      <td>2020-03-13 09:37:02+00:00</td>\n",
       "      <td>NaN</td>\n",
       "      <td>NaN</td>\n",
       "      <td>https://vallisblog.blogspot.com/2020/03/kampf-...</td>\n",
       "    </tr>\n",
       "    <tr>\n",
       "      <td>1238346813238726656</td>\n",
       "      <td>pairsonnalitesN</td>\n",
       "      <td>NaN</td>\n",
       "      <td>Stigmabase — Großevents wegen Corona untersagt...</td>\n",
       "      <td>1</td>\n",
       "      <td>0</td>\n",
       "      <td>0</td>\n",
       "      <td>https://twitter.com/pairsonnalitesN/status/123...</td>\n",
       "      <td>191092262</td>\n",
       "      <td>2020-03-13 06:11:02+00:00</td>\n",
       "      <td>NaN</td>\n",
       "      <td>NaN</td>\n",
       "      <td>http://dlvr.it/RRnlHv</td>\n",
       "    </tr>\n",
       "    <tr>\n",
       "      <td>1240891078368055296</td>\n",
       "      <td>pairsonnalitesN</td>\n",
       "      <td>NaN</td>\n",
       "      <td>Stigmabase — Coronavirus und Armut: Wie geht e...</td>\n",
       "      <td>1</td>\n",
       "      <td>0</td>\n",
       "      <td>0</td>\n",
       "      <td>https://twitter.com/pairsonnalitesN/status/124...</td>\n",
       "      <td>191092262</td>\n",
       "      <td>2020-03-20 06:41:02+00:00</td>\n",
       "      <td>NaN</td>\n",
       "      <td>NaN</td>\n",
       "      <td>http://dlvr.it/RSDD5T</td>\n",
       "    </tr>\n",
       "    <tr>\n",
       "      <td>1240876104346267648</td>\n",
       "      <td>pairsonnalitesN</td>\n",
       "      <td>NaN</td>\n",
       "      <td>Stigmabase — Armutskonferenz will Corona-Schut...</td>\n",
       "      <td>2</td>\n",
       "      <td>0</td>\n",
       "      <td>0</td>\n",
       "      <td>https://twitter.com/pairsonnalitesN/status/124...</td>\n",
       "      <td>191092262</td>\n",
       "      <td>2020-03-20 05:41:32+00:00</td>\n",
       "      <td>NaN</td>\n",
       "      <td>NaN</td>\n",
       "      <td>http://dlvr.it/RSD7C3</td>\n",
       "    </tr>\n",
       "    <tr>\n",
       "      <td>1242900486719787009</td>\n",
       "      <td>Skandalzeitung</td>\n",
       "      <td>NaN</td>\n",
       "      <td>Neues zum Corona-Wahnsinn in Auaburg! Wohin mi...</td>\n",
       "      <td>0</td>\n",
       "      <td>0</td>\n",
       "      <td>0</td>\n",
       "      <td>https://twitter.com/Skandalzeitung/status/1242...</td>\n",
       "      <td>386108018</td>\n",
       "      <td>2020-03-25 19:45:42+00:00</td>\n",
       "      <td>NaN</td>\n",
       "      <td>NaN</td>\n",
       "      <td>https://augsburger-skandal-zeitung.blogspot.co...</td>\n",
       "    </tr>\n",
       "    <tr>\n",
       "      <td>...</td>\n",
       "      <td>...</td>\n",
       "      <td>...</td>\n",
       "      <td>...</td>\n",
       "      <td>...</td>\n",
       "      <td>...</td>\n",
       "      <td>...</td>\n",
       "      <td>...</td>\n",
       "      <td>...</td>\n",
       "      <td>...</td>\n",
       "      <td>...</td>\n",
       "      <td>...</td>\n",
       "      <td>...</td>\n",
       "    </tr>\n",
       "    <tr>\n",
       "      <td>1242393854520639488</td>\n",
       "      <td>wo_saarland</td>\n",
       "      <td>NaN</td>\n",
       "      <td>Drive-in-Teststation im Regionalverband: SAARB...</td>\n",
       "      <td>0</td>\n",
       "      <td>0</td>\n",
       "      <td>0</td>\n",
       "      <td>https://twitter.com/wo_saarland/status/1242393...</td>\n",
       "      <td>256015523</td>\n",
       "      <td>2020-03-24 10:12:32+00:00</td>\n",
       "      <td>NaN</td>\n",
       "      <td>NaN</td>\n",
       "      <td>http://dlvr.it/RSSCqJ</td>\n",
       "    </tr>\n",
       "    <tr>\n",
       "      <td>1241167651256360961</td>\n",
       "      <td>wo_saarland</td>\n",
       "      <td>NaN</td>\n",
       "      <td>Wegen Corona-Krise: Appell an Vermieter und Ku...</td>\n",
       "      <td>0</td>\n",
       "      <td>0</td>\n",
       "      <td>0</td>\n",
       "      <td>https://twitter.com/wo_saarland/status/1241167...</td>\n",
       "      <td>256015523</td>\n",
       "      <td>2020-03-21 01:00:02+00:00</td>\n",
       "      <td>NaN</td>\n",
       "      <td>NaN</td>\n",
       "      <td>http://dlvr.it/RSH1Wh</td>\n",
       "    </tr>\n",
       "    <tr>\n",
       "      <td>1240804509137252353</td>\n",
       "      <td>wo_saarland</td>\n",
       "      <td>NaN</td>\n",
       "      <td>Corona-Infos in Fremdsprachen: SAARBRÜCKEN Die...</td>\n",
       "      <td>1</td>\n",
       "      <td>0</td>\n",
       "      <td>0</td>\n",
       "      <td>https://twitter.com/wo_saarland/status/1240804...</td>\n",
       "      <td>256015523</td>\n",
       "      <td>2020-03-20 00:57:02+00:00</td>\n",
       "      <td>NaN</td>\n",
       "      <td>NaN</td>\n",
       "      <td>http://dlvr.it/RSChSk</td>\n",
       "    </tr>\n",
       "    <tr>\n",
       "      <td>1241346257655922689</td>\n",
       "      <td>SPD_Suedilm</td>\n",
       "      <td>NaN</td>\n",
       "      <td>Ab Montag, 23.03.2020 sind in #Thüringen Sofor...</td>\n",
       "      <td>3</td>\n",
       "      <td>1</td>\n",
       "      <td>0</td>\n",
       "      <td>https://twitter.com/SPD_Suedilm/status/1241346...</td>\n",
       "      <td>1082370369208700929</td>\n",
       "      <td>2020-03-21 12:49:45+00:00</td>\n",
       "      <td>#Th</td>\n",
       "      <td>NaN</td>\n",
       "      <td>https://www.facebook.com/events/987973838265627/</td>\n",
       "    </tr>\n",
       "    <tr>\n",
       "      <td>1241069527963766786</td>\n",
       "      <td>Schulsachen</td>\n",
       "      <td>NaN</td>\n",
       "      <td>Erfurter Stadtschreiber: Covid-19 macht unser ...</td>\n",
       "      <td>0</td>\n",
       "      <td>0</td>\n",
       "      <td>0</td>\n",
       "      <td>https://twitter.com/Schulsachen/status/1241069...</td>\n",
       "      <td>293375164</td>\n",
       "      <td>2020-03-20 18:30:08+00:00</td>\n",
       "      <td>NaN</td>\n",
       "      <td>NaN</td>\n",
       "      <td>https://erfurterstadtschreiber.blogspot.com/20...</td>\n",
       "    </tr>\n",
       "  </tbody>\n",
       "</table>\n",
       "<p>580 rows × 12 columns</p>\n",
       "</div>"
      ],
      "text/plain": [
       "                            username   to  \\\n",
       "id                                          \n",
       "1238398657575223296       Vallisblog  NaN   \n",
       "1238346813238726656  pairsonnalitesN  NaN   \n",
       "1240891078368055296  pairsonnalitesN  NaN   \n",
       "1240876104346267648  pairsonnalitesN  NaN   \n",
       "1242900486719787009   Skandalzeitung  NaN   \n",
       "...                              ...  ...   \n",
       "1242393854520639488      wo_saarland  NaN   \n",
       "1241167651256360961      wo_saarland  NaN   \n",
       "1240804509137252353      wo_saarland  NaN   \n",
       "1241346257655922689      SPD_Suedilm  NaN   \n",
       "1241069527963766786      Schulsachen  NaN   \n",
       "\n",
       "                                                                  text  \\\n",
       "id                                                                       \n",
       "1238398657575223296  VALLIS BLOG: Kampf gegen Corona: International...   \n",
       "1238346813238726656  Stigmabase — Großevents wegen Corona untersagt...   \n",
       "1240891078368055296  Stigmabase — Coronavirus und Armut: Wie geht e...   \n",
       "1240876104346267648  Stigmabase — Armutskonferenz will Corona-Schut...   \n",
       "1242900486719787009  Neues zum Corona-Wahnsinn in Auaburg! Wohin mi...   \n",
       "...                                                                ...   \n",
       "1242393854520639488  Drive-in-Teststation im Regionalverband: SAARB...   \n",
       "1241167651256360961  Wegen Corona-Krise: Appell an Vermieter und Ku...   \n",
       "1240804509137252353  Corona-Infos in Fremdsprachen: SAARBRÜCKEN Die...   \n",
       "1241346257655922689  Ab Montag, 23.03.2020 sind in #Thüringen Sofor...   \n",
       "1241069527963766786  Erfurter Stadtschreiber: Covid-19 macht unser ...   \n",
       "\n",
       "                     retweets  favorites  replies  \\\n",
       "id                                                  \n",
       "1238398657575223296         0          0        0   \n",
       "1238346813238726656         1          0        0   \n",
       "1240891078368055296         1          0        0   \n",
       "1240876104346267648         2          0        0   \n",
       "1242900486719787009         0          0        0   \n",
       "...                       ...        ...      ...   \n",
       "1242393854520639488         0          0        0   \n",
       "1241167651256360961         0          0        0   \n",
       "1240804509137252353         1          0        0   \n",
       "1241346257655922689         3          1        0   \n",
       "1241069527963766786         0          0        0   \n",
       "\n",
       "                                                             permalink  \\\n",
       "id                                                                       \n",
       "1238398657575223296  https://twitter.com/Vallisblog/status/12383986...   \n",
       "1238346813238726656  https://twitter.com/pairsonnalitesN/status/123...   \n",
       "1240891078368055296  https://twitter.com/pairsonnalitesN/status/124...   \n",
       "1240876104346267648  https://twitter.com/pairsonnalitesN/status/124...   \n",
       "1242900486719787009  https://twitter.com/Skandalzeitung/status/1242...   \n",
       "...                                                                ...   \n",
       "1242393854520639488  https://twitter.com/wo_saarland/status/1242393...   \n",
       "1241167651256360961  https://twitter.com/wo_saarland/status/1241167...   \n",
       "1240804509137252353  https://twitter.com/wo_saarland/status/1240804...   \n",
       "1241346257655922689  https://twitter.com/SPD_Suedilm/status/1241346...   \n",
       "1241069527963766786  https://twitter.com/Schulsachen/status/1241069...   \n",
       "\n",
       "                               author_id                      date hashtags  \\\n",
       "id                                                                            \n",
       "1238398657575223296             20895633 2020-03-13 09:37:02+00:00      NaN   \n",
       "1238346813238726656            191092262 2020-03-13 06:11:02+00:00      NaN   \n",
       "1240891078368055296            191092262 2020-03-20 06:41:02+00:00      NaN   \n",
       "1240876104346267648            191092262 2020-03-20 05:41:32+00:00      NaN   \n",
       "1242900486719787009            386108018 2020-03-25 19:45:42+00:00      NaN   \n",
       "...                                  ...                       ...      ...   \n",
       "1242393854520639488            256015523 2020-03-24 10:12:32+00:00      NaN   \n",
       "1241167651256360961            256015523 2020-03-21 01:00:02+00:00      NaN   \n",
       "1240804509137252353            256015523 2020-03-20 00:57:02+00:00      NaN   \n",
       "1241346257655922689  1082370369208700929 2020-03-21 12:49:45+00:00      #Th   \n",
       "1241069527963766786            293375164 2020-03-20 18:30:08+00:00      NaN   \n",
       "\n",
       "                    mentions  \\\n",
       "id                             \n",
       "1238398657575223296      NaN   \n",
       "1238346813238726656      NaN   \n",
       "1240891078368055296      NaN   \n",
       "1240876104346267648      NaN   \n",
       "1242900486719787009      NaN   \n",
       "...                      ...   \n",
       "1242393854520639488      NaN   \n",
       "1241167651256360961      NaN   \n",
       "1240804509137252353      NaN   \n",
       "1241346257655922689      NaN   \n",
       "1241069527963766786      NaN   \n",
       "\n",
       "                                                                  urls  \n",
       "id                                                                      \n",
       "1238398657575223296  https://vallisblog.blogspot.com/2020/03/kampf-...  \n",
       "1238346813238726656                              http://dlvr.it/RRnlHv  \n",
       "1240891078368055296                              http://dlvr.it/RSDD5T  \n",
       "1240876104346267648                              http://dlvr.it/RSD7C3  \n",
       "1242900486719787009  https://augsburger-skandal-zeitung.blogspot.co...  \n",
       "...                                                                ...  \n",
       "1242393854520639488                              http://dlvr.it/RSSCqJ  \n",
       "1241167651256360961                              http://dlvr.it/RSH1Wh  \n",
       "1240804509137252353                              http://dlvr.it/RSChSk  \n",
       "1241346257655922689   https://www.facebook.com/events/987973838265627/  \n",
       "1241069527963766786  https://erfurterstadtschreiber.blogspot.com/20...  \n",
       "\n",
       "[580 rows x 12 columns]"
      ]
     },
     "execution_count": 110,
     "metadata": {},
     "output_type": "execute_result"
    }
   ],
   "source": [
    "df.loc[df.text.str.endswith(\"... [URL]\")]"
   ]
  },
  {
   "cell_type": "code",
   "execution_count": null,
   "metadata": {},
   "outputs": [],
   "source": []
  },
  {
   "cell_type": "code",
   "execution_count": 109,
   "metadata": {},
   "outputs": [
    {
     "data": {
      "text/plain": [
       "'https://twitter.com/FreieWaehlerKoe/status/1238538378397835266'"
      ]
     },
     "execution_count": 109,
     "metadata": {},
     "output_type": "execute_result"
    }
   ],
   "source": [
    "df.loc[df.text.str.len().gt(40) & df.text.str.len().lt(60)].iloc[6].permalink"
   ]
  },
  {
   "cell_type": "code",
   "execution_count": 78,
   "metadata": {},
   "outputs": [
    {
     "data": {
      "text/plain": [
       "<matplotlib.axes._subplots.AxesSubplot at 0x20a1297c488>"
      ]
     },
     "execution_count": 78,
     "metadata": {},
     "output_type": "execute_result"
    },
    {
     "data": {
      "image/png": "[encoded data removed]",
      "text/plain": [
       "<Figure size 432x288 with 1 Axes>"
      ]
     },
     "metadata": {
      "needs_background": "light"
     },
     "output_type": "display_data"
    }
   ],
   "source": [
    "df.text.str.len().plot.hist(bins=200)"
   ]
  },
  {
   "cell_type": "code",
   "execution_count": 105,
   "metadata": {},
   "outputs": [
    {
     "data": {
      "text/plain": [
       "id\n",
       "1239169304672829440    wegen corona?\n",
       "1237438267555020802    Wegen Corona?\n",
       "Name: text, dtype: object"
      ]
     },
     "execution_count": 105,
     "metadata": {},
     "output_type": "execute_result"
    }
   ],
   "source": [
    "df.text.loc[df.text.str.len().eq(13)]"
   ]
  },
  {
   "cell_type": "code",
   "execution_count": 104,
   "metadata": {},
   "outputs": [
    {
     "data": {
      "text/plain": [
       "13"
      ]
     },
     "execution_count": 104,
     "metadata": {},
     "output_type": "execute_result"
    }
   ],
   "source": [
    "df.text.str.len().min()"
   ]
  },
  {
   "cell_type": "code",
   "execution_count": null,
   "metadata": {},
   "outputs": [],
   "source": []
  }
 ],
 "metadata": {
  "kernelspec": {
   "display_name": "Python 3",
   "language": "python",
   "name": "python3"
  },
  "language_info": {
   "codemirror_mode": {
    "name": "ipython",
    "version": 3
   },
   "file_extension": ".py",
   "mimetype": "text/x-python",
   "name": "python",
   "nbconvert_exporter": "python",
   "pygments_lexer": "ipython3",
   "version": "3.7.6"
  }
 },
 "nbformat": 4,
 "nbformat_minor": 4
}
