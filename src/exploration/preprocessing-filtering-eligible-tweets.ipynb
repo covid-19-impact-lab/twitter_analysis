{
 "cells": [
  {
   "cell_type": "markdown",
   "metadata": {},
   "source": [
    "# Sampling tweets\n",
    "\n",
    "- Only English and German tweets.\n",
    "- Character limit 50\n",
    "- "
   ]
  },
  {
   "cell_type": "code",
   "execution_count": 1,
   "metadata": {},
   "outputs": [],
   "source": [
    "import sys\n",
    "sys.path.append(\"../..\")\n",
    "\n",
    "import numpy as np\n",
    "import pyarrow.parquet as pq\n",
    "import pandas as pd\n",
    "import spacy\n",
    "import spacy_cld\n",
    "\n",
    "pd.options.display.max_colwidth = 100\n",
    "\n",
    "from pathlib import Path\n",
    "from bld.project_paths import project_paths_join as ppj\n",
    "from src.pre_processing.preprocessors import replace_urls, replace_mentions, remove_link_only_tweets, replace_hashtags\n",
    "\n",
    "import spacy\n",
    "import spacy_cld"
   ]
  },
  {
   "cell_type": "code",
   "execution_count": 31,
   "metadata": {},
   "outputs": [],
   "source": [
    "df = pd.read_pickle(ppj(\"OUT_DATA\", \"data_clean.pkl\"))"
   ]
  },
  {
   "cell_type": "code",
   "execution_count": 32,
   "metadata": {},
   "outputs": [],
   "source": [
    "# Replace urls with token, remove link only tweets, remove the token.\n",
    "df = replace_urls(df)\n",
    "df = remove_link_only_tweets(df)\n",
    "df = replace_mentions(df)"
   ]
  },
  {
   "cell_type": "code",
   "execution_count": 33,
   "metadata": {},
   "outputs": [],
   "source": [
    "sc = pd.read_pickle(ppj(\"OUT_DATA\", \"detected_languages.pkl\"))"
   ]
  },
  {
   "cell_type": "code",
   "execution_count": null,
   "metadata": {},
   "outputs": [],
   "source": []
  },
  {
   "cell_type": "code",
   "execution_count": 40,
   "metadata": {},
   "outputs": [
    {
     "data": {
      "text/plain": [
       "UInt64Index([1239272810951958529, 1239109816607559681, 1239102057241546752,\n",
       "             1238942657629618176, 1238844423917592580, 1238724114451443713,\n",
       "             1238529191349571590, 1238520616216662017, 1238503012357865475,\n",
       "             1238445294460776449,\n",
       "             ...\n",
       "             1243189307059441664, 1243092885316276224, 1243028079607496704,\n",
       "             1244688866281480194, 1244581343318675458, 1243780408669585408,\n",
       "             1244714323458560002, 1244666176912986114, 1243996766468521985,\n",
       "             1244362101264695296],\n",
       "            dtype='uint64', name='id', length=44927)"
      ]
     },
     "execution_count": 40,
     "metadata": {},
     "output_type": "execute_result"
    }
   ],
   "source": [
    "sc.query(\"de >= 0.9 or en >= 0.9\").index.intersection(df.index)"
   ]
  },
  {
   "cell_type": "code",
   "execution_count": 35,
   "metadata": {},
   "outputs": [],
   "source": [
    "# Only keep tweets which are with at least 90% chance either English or German.\n",
    "at_least_90_sure = (sc[[\"de\", \"en\"]] > 0.9).any(axis=1)\n",
    "df = df.loc[at_least_90_sure]"
   ]
  },
  {
   "cell_type": "code",
   "execution_count": 36,
   "metadata": {},
   "outputs": [
    {
     "data": {
      "text/plain": [
       "(44927, 14)"
      ]
     },
     "execution_count": 36,
     "metadata": {},
     "output_type": "execute_result"
    }
   ],
   "source": [
    "df.shape"
   ]
  },
  {
   "cell_type": "code",
   "execution_count": 17,
   "metadata": {},
   "outputs": [],
   "source": [
    "# Only keep tweets with at least 50 characters.\n",
    "df = df.loc[df.text.str.len() >= 50]"
   ]
  },
  {
   "cell_type": "code",
   "execution_count": 18,
   "metadata": {},
   "outputs": [
    {
     "data": {
      "text/plain": [
       "(42995, 14)"
      ]
     },
     "execution_count": 18,
     "metadata": {},
     "output_type": "execute_result"
    }
   ],
   "source": [
    "df.shape"
   ]
  },
  {
   "cell_type": "code",
   "execution_count": 24,
   "metadata": {},
   "outputs": [
    {
     "data": {
      "text/plain": [
       "['\"Für #Obdachlose bricht mit der #Corona-Krise praktisch das gesamte Netz zusammen, das sie sonst über den Tag kommen lässt. Mit der Zahl der Passanten in den Innenstädten sinkt auch die Zahl der Spenden oder Pfandflaschen. Und auch der Verkauf von Straßenmagazinen fällt weg.\" ',\n",
       " 'Gesellschaft: \"Corona als Globalisierungsfolge\" #featured',\n",
       " 'Unternehmen, Familien, Mieter, Selbstständige - Gigantisches Hilfspaket gegen die Corona-Krise: Wem die Regierung jetzt wie hilft ',\n",
       " '„Der Ruhepol Schule fällt weg“: Was beim Unterricht in Corona-Zeiten fehlt ',\n",
       " 'Dieses Bild ist gestern Abend entstanden, als ich mit dem Rad trainieren war. Die #Ausgangsperre wird kommen, weil sich unzählige ignorante Knallchargen unbekümmert in der Gegend rumtreiben. Viele junge Menschen. Kinners, #Systemkritik geht anders. #Covid_19 #SocialDistancing',\n",
       " 'Fuck The #Coronavirus - #COVID_19 2 hours Deep-House Music. #StayHome Enjoy Yourself Free download, as always.',\n",
       " 'CORONA IST... DIE VERRÜCKTEN KOMMEN! \"Für die Attacke auf Putin reicht Gensing als Beleg, dass „die EU“ warnt. Lachhaft.\" ',\n",
       " 'Recruiting in COVID-19 Zeiten - Positive Nachrichten einer Personalvermi... [URL] via [MNT]',\n",
       " '\"Wichtig ist, dass alle Sonderregeln anlässlich der Corona-Krise nur befristet gelten und ein Enddatum haben. Damit ist sichergestellt, dass Ausnahmevorschriften nicht schleichend zur Normalität werden,\" sagte [MNT]-BGF Sven Rebehn. [URL] via [MNT]',\n",
       " '#Faktenfuchs: Forscher vermuten einen Zusammenhang von Luftverschmutzung und dem Verlauf von Lungenkrankheiten bei Covid-19-Patienten. Es könnte eine Erklärung für die hohe Todesrate in Norditalien sein.[URL] via [MNT]']"
      ]
     },
     "execution_count": 24,
     "metadata": {},
     "output_type": "execute_result"
    }
   ],
   "source": [
    "df.sample(10).text.tolist()"
   ]
  },
  {
   "cell_type": "code",
   "execution_count": null,
   "metadata": {},
   "outputs": [],
   "source": []
  }
 ],
 "metadata": {
  "kernelspec": {
   "display_name": "Python 3",
   "language": "python",
   "name": "python3"
  },
  "language_info": {
   "codemirror_mode": {
    "name": "ipython",
    "version": 3
   },
   "file_extension": ".py",
   "mimetype": "text/x-python",
   "name": "python",
   "nbconvert_exporter": "python",
   "pygments_lexer": "ipython3",
   "version": "3.7.6"
  }
 },
 "nbformat": 4,
 "nbformat_minor": 4
}
