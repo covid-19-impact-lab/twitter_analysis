{
 "cells": [
  {
   "cell_type": "code",
   "execution_count": 11,
   "metadata": {},
   "outputs": [],
   "source": [
    "import pandas as pd\n",
    "pd.set_option('')"
   ]
  },
  {
   "cell_type": "code",
   "execution_count": 12,
   "metadata": {},
   "outputs": [],
   "source": [
    "df = pd.read_csv(\"~/sciebo/corona/twitter-analysis/data/corona-analysis-data/test_data.csv\")"
   ]
  },
  {
   "cell_type": "code",
   "execution_count": 8,
   "metadata": {},
   "outputs": [],
   "source": [
    "data = df[['screen_name', 'text']]"
   ]
  },
  {
   "cell_type": "code",
   "execution_count": 19,
   "metadata": {},
   "outputs": [
    {
     "name": "stdout",
     "output_type": "stream",
     "text": [
      "fibiBerlin: Wegen #Corona heute nicht in #Verona sondern in der #KomischenOper.  \n",
      "Zu einem Stück mit Weltklasse... #Anatevka\n",
      "#Kultür #Berlin #fidlerontheroof \n",
      ".\n",
      ".\n",
      ".\n",
      ".\n",
      "#queerchristiansontour #gaytravelblog #traveltheworld… https://www.instagram.com/p/B9czdLhhSom/?igshid=1egcnhjzzi810 …\n",
      "\n",
      "veubeke: With the corona virus upon us you’re not only helping yourself but all of us. Keep fighting the good fight!\n",
      "\n",
      "GregorxxxSamsa: Ist jetzt in Zeiten von Corona alles erlaubt?\n",
      "\n",
      "realPaddy87: #corona #Klopapier #coronavirus #lustig #berlinpic.twitter.com/NTkQWwa5HW\n",
      "\n",
      "phildonachie: #Corona #Abklärungsstelle - #prenzlauerberg @ Prenzlauer Berg, Berlin, Germany https://www.instagram.com/p/B9ce2GOp0KB/?igshid=5xqceniemnbe …\n",
      "\n",
      "jojobusing: We have one life Corona can kill us later\n",
      "\n",
      "aluhutt: Bleib‘ gesund (gilt nicht nur für Corona)!\n",
      "\n",
      "animaginefie: no more words needed  \n",
      "\n",
      "Polizei musste einschreiten: Corona-Panik in Australien: Frauen prügeln sich in Supermarkt um Toilettenpapier https://www.focus.de/11744894 \n",
      "\n",
      "andreasbotsch: .@dgb_news Chef Hoffmann fordert die #G20 zum Handeln auf: \"Wie zur Zeit der internationalen Finanzkrise 2008/2009 sind jetzt koordinierte Maßnahmen der G20-Staaten sowie weitreichende Investitionsprogramme notwendig\" @ituc @etuc_ces @IMKFlash @SharanBurrow #COVID19 #Corona https://twitter.com/dgb_news/status/1236333803389452290 …\n",
      "\n",
      "dil_kal: In Berlin sind 5 Corona-Untersuchungsstellen für begründete Abklärungsfälle eingerichtet. Ich habe sie besucht, bevor sie in den nächsten Tage die Türen öffnen. Ich danke allen für das beeindruckende Engagement! #coronaberlin #CoronaGermany #COVIDー19pic.twitter.com/CQN4y5gATR\n",
      "\n",
      "thorben030: Es ist sogar schon auf Pankows Spielplätzen angekommen!!! #Corona pic.twitter.com/nGJTnbXjQH\n",
      "\n",
      "tabitha_W_H: @Starbucks @StarbucksBerlin just went to starbucks in berlin, the barista was really lovely and apologetic but was unable to use my reusable cup due to corona virus risk? i understand the concerns but find better solutions as single use cups are detrimental to the environment! :(\n",
      "\n",
      "_Siniawski: #Corona mitten in Zeiten des Clubsterbens: Warum die #Konzertlocations in Deutschland auf einen glimpflichen Ausgang hoffen, erklärt #AxelBallreich vom Verband #LiveKomm @DLF #Corsohttps://www.deutschlandfunk.de/die-konzertbranche-und-das-corona-virus-eine-loose-loose.807.de.html?dram:article_id=471963 …\n",
      "\n",
      "authenticsilvr: nur 3.000 todesfälle weltweit durch corona bei fast 8 milliarden menschen aber geht mal weiter regale leer kaufen\n",
      "\n",
      "Pitty06913716: #Corona hat Angst vor Bällen \n",
      "\n",
      "TOLLABEA: Ratlos #corona Fensterdeko am Kudamm... pic.twitter.com/j8iLkbrxQL\n",
      "\n",
      "RecumbentTravel: Von Radtour im Schrank gefunden, kein #Corona #Hamsterkaufpic.twitter.com/umPw7PcdEM\n",
      "\n",
      "huettemann: #Corona & #sanktfloriansprinzip #nimby https://twitter.com/linn_la_s/status/1236268298251182082 …pic.twitter.com/5tEFVyofmC\n",
      "\n",
      "Sarah_Settgast: \"Corona ist vor allem wirtschaftlich ein Problem\" https://sz.de/1.4835692  via @SZ Mein Beitrag zu den anhaltenden Probleme mit dem #COVID19\n",
      "\n",
      "GomisSaraya: \"Corona zeigt uns, dass es ginge... (...) Man muss aber wohl davon ausgehen, dass sie bei den Kindern, die an der türkischen Grenze erfrieren oder denen sie auf der Insel Lesbos bei Krankheiten (...) die medizinische Versorgung verwehren, einfach nicht wollen.\"\n",
      "\n",
      "fibiBerlin: Wegen #Corona heute nicht in #Verona sondern in der #KomischenOper.  \n",
      "Zu einem Stück mit Weltklasse... #Anatevka\n",
      "#Kultür #Berlin #fidlerontheroof \n",
      ".\n",
      ".\n",
      ".\n",
      ".\n",
      "#queerchristiansontour #gaytravelblog #traveltheworld… https://www.instagram.com/p/B9czdLhhSom/?igshid=1egcnhjzzi810 …\n",
      "\n",
      "veubeke: With the corona virus upon us you’re not only helping yourself but all of us. Keep fighting the good fight!\n",
      "\n",
      "GregorxxxSamsa: Ist jetzt in Zeiten von Corona alles erlaubt?\n",
      "\n",
      "realPaddy87: #corona #Klopapier #coronavirus #lustig #berlinpic.twitter.com/NTkQWwa5HW\n",
      "\n",
      "phildonachie: #Corona #Abklärungsstelle - #prenzlauerberg @ Prenzlauer Berg, Berlin, Germany https://www.instagram.com/p/B9ce2GOp0KB/?igshid=5xqceniemnbe …\n",
      "\n"
     ]
    }
   ],
   "source": [
    "for i in range(25):\n",
    "    print(f\"{data.loc[i, 'screen_name']}: {data.loc[i, 'text']}\\n\")"
   ]
  },
  {
   "cell_type": "code",
   "execution_count": null,
   "metadata": {},
   "outputs": [],
   "source": []
  }
 ],
 "metadata": {
  "kernelspec": {
   "display_name": "twitter-analysis",
   "language": "python",
   "name": "twitter-analysis"
  },
  "language_info": {
   "codemirror_mode": {
    "name": "ipython",
    "version": 3
   },
   "file_extension": ".py",
   "mimetype": "text/x-python",
   "name": "python",
   "nbconvert_exporter": "python",
   "pygments_lexer": "ipython3",
   "version": "3.7.6"
  }
 },
 "nbformat": 4,
 "nbformat_minor": 2
}
