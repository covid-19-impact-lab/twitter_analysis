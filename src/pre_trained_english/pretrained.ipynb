{
 "cells": [
  {
   "cell_type": "code",
   "execution_count": 9,
   "metadata": {},
   "outputs": [],
   "source": [
    "# change to root directory of project\n",
    "import os\n",
    "os.chdir('/home/tm/sciebo/corona/twitter_analysis/')\n",
    "\n",
    "from bld.project_paths import project_paths_join as ppj"
   ]
  },
  {
   "cell_type": "code",
   "execution_count": 225,
   "metadata": {},
   "outputs": [],
   "source": [
    "from IPython.display import display"
   ]
  },
  {
   "cell_type": "code",
   "execution_count": 210,
   "metadata": {},
   "outputs": [],
   "source": [
    "import numpy as np\n",
    "import pandas as pd\n",
    "\n",
    "from sklearn.metrics import classification_report\n",
    "from sklearn.metrics import confusion_matrix\n",
    "from sklearn.preprocessing import LabelEncoder\n",
    "\n",
    "from textblob import TextBlob\n",
    "\n",
    "from vaderSentiment.vaderSentiment import SentimentIntensityAnalyzer\n",
    "\n",
    "#import requests\n",
    "#import json\n",
    "#import argparse\n",
    "\n",
    "#from google.cloud import language\n",
    "#from google.oauth2 import service_account\n",
    "#from google.cloud.language import enums\n",
    "#from google.cloud.language import types"
   ]
  },
  {
   "cell_type": "markdown",
   "metadata": {},
   "source": [
    "## Data management"
   ]
  },
  {
   "cell_type": "code",
   "execution_count": 211,
   "metadata": {},
   "outputs": [],
   "source": [
    "data = pd.read_csv(\n",
    "    ppj(\"IN_DATA\", \"training_data/data.tsv\"),\n",
    "    sep=\"\\t\",\n",
    "    header=None,\n",
    "    names=['id', 'sentiment', 'hexcode', 'NA', 'text']\n",
    ")\n",
    "\n",
    "df = data.drop(\n",
    "        ['id', 'hexcode', 'NA'], axis=1\n",
    "    ).replace(\n",
    "        {'Not Available': np.nan}\n",
    "    ).dropna()[\n",
    "        ['text', 'sentiment']\n",
    "    ].reset_index().drop('index', axis=1)"
   ]
  },
  {
   "cell_type": "code",
   "execution_count": 212,
   "metadata": {},
   "outputs": [],
   "source": [
    "df_processed = pd.read_csv(\n",
    "    ppj(\"OUT_DATA\", \"data_processed.tsv\"),\n",
    "    sep=\"\\t\",\n",
    ")[['text', 'sentiment']]"
   ]
  },
  {
   "cell_type": "code",
   "execution_count": 213,
   "metadata": {},
   "outputs": [],
   "source": [
    "df['text_processed'] = data_processed.text\n",
    "df['sentiment_score'] = df.sentiment.replace({'neutral': 0, 'negative': -1, 'positive': 1})\n",
    "\n",
    "df = df.dropna()"
   ]
  },
  {
   "cell_type": "markdown",
   "metadata": {},
   "source": [
    "## Functions"
   ]
  },
  {
   "cell_type": "code",
   "execution_count": 214,
   "metadata": {},
   "outputs": [],
   "source": [
    "def classify_sentiment(list_of_text, method):\n",
    "    \"\"\"Classify sentiment for each item in ``list_of_text``.\n",
    "    \n",
    "    Args:\n",
    "        list_of_text (list): List of strings for which the sentiment\n",
    "            should be classified.\n",
    "        \n",
    "        method (str): Name of method that should be used. Possible\n",
    "            values are 'google', 'vader', 'textblob'.\n",
    "            \n",
    "    Returns:\n",
    "        sentiments (list): List of respective sentiment score\n",
    "            for each item in ``list_of_text``.\n",
    "    \n",
    "    \"\"\"\n",
    "    analyzer = return_sentiment_analyzer(method)\n",
    "    \n",
    "    sentiments = analyzer(list_of_text)\n",
    "    return sentiments"
   ]
  },
  {
   "cell_type": "code",
   "execution_count": 215,
   "metadata": {},
   "outputs": [],
   "source": [
    "def return_sentiment_analyzer(method):\n",
    "    \"\"\"Return specific sentiment analyzer function.\n",
    "    \n",
    "    Args:\n",
    "        method (str): Name of method that should be used. Possible\n",
    "            values are 'google', 'vader', 'textblob'.\n",
    "            \n",
    "    Returns:\n",
    "        analyzer (function): Function which return a sentiment score\n",
    "            given text input. Inner workings depend on ``method``.\n",
    "        \n",
    "    \"\"\"\n",
    "    functions = {\n",
    "        'google': analyze_google,\n",
    "        'textblob': analyze_textblob,\n",
    "        'vader': analyze_vader,\n",
    "    }\n",
    "    \n",
    "    analyzer = functions[method]\n",
    "    return analyzer"
   ]
  },
  {
   "cell_type": "code",
   "execution_count": 216,
   "metadata": {},
   "outputs": [],
   "source": [
    "def analyze_google(list_of_text):\n",
    "    \"\"\"Return sentiment for each text in ``list_of_text``.\n",
    "    \n",
    "    Sentiments are analyzed using googles cloud natural language\n",
    "    api.\n",
    "    \n",
    "    Args:\n",
    "        list_of_text (list): List of strings for which the sentiment\n",
    "            should be classified.\n",
    "            \n",
    "    Returns:\n",
    "        sentiments (list): List of respective sentiment score\n",
    "            for each item in ``list_of_text``, where the sentiment score\n",
    "            is computed using google cloud natural language.\n",
    "            \n",
    "    \"\"\"\n",
    "    client = language.LanguageServiceClient.from_service_account_json(\n",
    "        'src/keys/ose-twitter-analysis-8508806b2efb.json'\n",
    "    )\n",
    "    \n",
    "    sentiments = []\n",
    "    for text in list_of_text:\n",
    "        document = types.Document(\n",
    "            content=text,\n",
    "            type=enums.Document.Type.PLAIN_TEXT\n",
    "        )\n",
    "        annotations = client.analyze_sentiment(document=document)\n",
    "        sentiments.append(annotations.document_sentiment.score)\n",
    "        \n",
    "    return sentiments"
   ]
  },
  {
   "cell_type": "code",
   "execution_count": 217,
   "metadata": {},
   "outputs": [],
   "source": [
    "def analyze_textblob(list_of_text):\n",
    "    \"\"\"Return sentiment for each text in ``list_of_text`` using ``textblob``.\n",
    "    \n",
    "    Args:\n",
    "        list_of_text (list): List of strings for which the sentiment\n",
    "            should be classified.\n",
    "            \n",
    "    Returns:\n",
    "        sentiments (list): List of respective sentiment score\n",
    "            for each item in ``list_of_text``, where the sentiment score\n",
    "            is computed using the package ``textblob``.\n",
    "            \n",
    "    \"\"\"\n",
    "    sentiments = [\n",
    "        TextBlob(text).sentiment.polarity for text in list_of_text\n",
    "    ]\n",
    "    return sentiments"
   ]
  },
  {
   "cell_type": "code",
   "execution_count": 218,
   "metadata": {},
   "outputs": [],
   "source": [
    "def analyze_vader(list_of_text):\n",
    "    \"\"\"Return sentiment for each text in ``list_of_text`` using ``vaderSentiment``.\n",
    "    \n",
    "    Args:\n",
    "        list_of_text (list): List of strings for which the sentiment\n",
    "            should be classified.\n",
    "            \n",
    "    Returns:\n",
    "        sentiments (list): List of respective sentiment score\n",
    "            for each item in ``list_of_text``, where the sentiment score\n",
    "            is computed using the package ``vaderSentiment``.\n",
    "            \n",
    "    \"\"\"\n",
    "    analyzer = SentimentIntensityAnalyzer()\n",
    "    \n",
    "    sentiments = [\n",
    "        analyzer.polarity_scores(text)['compound'] for text in list_of_text\n",
    "    ]\n",
    "    return sentiments"
   ]
  },
  {
   "cell_type": "code",
   "execution_count": null,
   "metadata": {},
   "outputs": [],
   "source": []
  },
  {
   "cell_type": "markdown",
   "metadata": {},
   "source": [
    "## Analysis"
   ]
  },
  {
   "cell_type": "code",
   "execution_count": 219,
   "metadata": {},
   "outputs": [],
   "source": [
    "analyzers = ['textblob', 'vader'] #, 'google']"
   ]
  },
  {
   "cell_type": "code",
   "execution_count": 220,
   "metadata": {},
   "outputs": [],
   "source": [
    "for t in ['nonprocessed', 'processed']:\n",
    "    if t == 'nonprocessed':\n",
    "        col = 'text'\n",
    "    else:\n",
    "        col = 'text_processed'\n",
    "        \n",
    "    for m in analyzers:\n",
    "        df[m + \"_\" + t] = classify_sentiment(df[col].to_list(), method=m)"
   ]
  },
  {
   "cell_type": "code",
   "execution_count": null,
   "metadata": {},
   "outputs": [],
   "source": []
  },
  {
   "cell_type": "code",
   "execution_count": 221,
   "metadata": {},
   "outputs": [],
   "source": [
    "def continuous_to_class(score):\n",
    "    new_score = np.zeros(score.shape)\n",
    "    \n",
    "    new_score[score < -0.33] = -1\n",
    "    new_score[score > 0.33] = 1\n",
    "    \n",
    "    new_score = pd.Series(new_score).replace(\n",
    "        {-1: 'negative', 0: 'neutral', 1: 'positive'}\n",
    "    )\n",
    "    return new_score"
   ]
  },
  {
   "cell_type": "code",
   "execution_count": 258,
   "metadata": {},
   "outputs": [],
   "source": [
    "def confusion_matrix_to_readable(cmat, labels):\n",
    "    columns = ['pred_' + lab for lab in labels]\n",
    "    rows = ['true_' + lab for lab in labels]\n",
    "    \n",
    "    df = pd.DataFrame(cmat, columns=columns, index=rows)\n",
    "    return df"
   ]
  },
  {
   "cell_type": "code",
   "execution_count": 283,
   "metadata": {},
   "outputs": [],
   "source": [
    "def absolute_to_freq(cmat):\n",
    "    total = cmat.sum(axis=1)\n",
    "    return cmat / total[:, np.newaxis]"
   ]
  },
  {
   "cell_type": "code",
   "execution_count": null,
   "metadata": {},
   "outputs": [],
   "source": []
  },
  {
   "cell_type": "code",
   "execution_count": 284,
   "metadata": {},
   "outputs": [],
   "source": [
    "le = LabelEncoder()\n",
    "le = le.fit(df[\"sentiment\"])\n",
    "y_true = le.transform(df[\"sentiment\"])\n",
    "\n",
    "columns = [\n",
    "    'textblob_nonprocessed', \n",
    "    'vader_nonprocessed', \n",
    "    'textblob_processed', \n",
    "    'vader_processed'\n",
    "]\n",
    "\n",
    "predictions = [\n",
    "    le.transform(continuous_to_class(df[col])) for col in columns\n",
    "]\n",
    "\n",
    "cmats = [\n",
    "    confusion_matrix(y_true, pred) for pred in predictions\n",
    "]\n",
    "\n",
    "cmats_freq = [absolute_to_freq(cmat) for cmat in cmats]\n",
    "\n",
    "df_cmats = [\n",
    "    confusion_matrix_to_readable(cmat, le.classes_) for cmat in cmats_freq\n",
    "]"
   ]
  },
  {
   "cell_type": "markdown",
   "metadata": {},
   "source": [
    "## Benchmark"
   ]
  },
  {
   "cell_type": "code",
   "execution_count": 311,
   "metadata": {},
   "outputs": [
    {
     "data": {
      "text/plain": [
       "0    0.148358\n",
       "1    0.626738\n",
       "2    0.224905\n",
       "dtype: float64"
      ]
     },
     "execution_count": 311,
     "metadata": {},
     "output_type": "execute_result"
    }
   ],
   "source": [
    "weights = pd.Series(y_true).value_counts() / len(y_true)\n",
    "weights = weights.reindex(le.transform(['negative', 'neutral', 'positive']))\n",
    "weights"
   ]
  },
  {
   "cell_type": "markdown",
   "metadata": {},
   "source": [
    "### Evaluation"
   ]
  },
  {
   "cell_type": "code",
   "execution_count": 312,
   "metadata": {},
   "outputs": [
    {
     "name": "stdout",
     "output_type": "stream",
     "text": [
      "textblob_nonprocessed\n"
     ]
    },
    {
     "data": {
      "text/html": [
       "<div>\n",
       "<style scoped>\n",
       "    .dataframe tbody tr th:only-of-type {\n",
       "        vertical-align: middle;\n",
       "    }\n",
       "\n",
       "    .dataframe tbody tr th {\n",
       "        vertical-align: top;\n",
       "    }\n",
       "\n",
       "    .dataframe thead th {\n",
       "        text-align: right;\n",
       "    }\n",
       "</style>\n",
       "<table border=\"1\" class=\"dataframe\">\n",
       "  <thead>\n",
       "    <tr style=\"text-align: right;\">\n",
       "      <th></th>\n",
       "      <th>pred_negative</th>\n",
       "      <th>pred_neutral</th>\n",
       "      <th>pred_positive</th>\n",
       "    </tr>\n",
       "  </thead>\n",
       "  <tbody>\n",
       "    <tr>\n",
       "      <td>true_negative</td>\n",
       "      <td>0.098867</td>\n",
       "      <td>0.846550</td>\n",
       "      <td>0.054583</td>\n",
       "    </tr>\n",
       "    <tr>\n",
       "      <td>true_neutral</td>\n",
       "      <td>0.013896</td>\n",
       "      <td>0.933935</td>\n",
       "      <td>0.052170</td>\n",
       "    </tr>\n",
       "    <tr>\n",
       "      <td>true_positive</td>\n",
       "      <td>0.008832</td>\n",
       "      <td>0.703125</td>\n",
       "      <td>0.288043</td>\n",
       "    </tr>\n",
       "  </tbody>\n",
       "</table>\n",
       "</div>"
      ],
      "text/plain": [
       "               pred_negative  pred_neutral  pred_positive\n",
       "true_negative       0.098867      0.846550       0.054583\n",
       "true_neutral        0.013896      0.933935       0.052170\n",
       "true_positive       0.008832      0.703125       0.288043"
      ]
     },
     "metadata": {},
     "output_type": "display_data"
    },
    {
     "name": "stdout",
     "output_type": "stream",
     "text": [
      "Percent correctly classified: 0.6647822765469824\n",
      "vader_nonprocessed\n"
     ]
    },
    {
     "data": {
      "text/html": [
       "<div>\n",
       "<style scoped>\n",
       "    .dataframe tbody tr th:only-of-type {\n",
       "        vertical-align: middle;\n",
       "    }\n",
       "\n",
       "    .dataframe tbody tr th {\n",
       "        vertical-align: top;\n",
       "    }\n",
       "\n",
       "    .dataframe thead th {\n",
       "        text-align: right;\n",
       "    }\n",
       "</style>\n",
       "<table border=\"1\" class=\"dataframe\">\n",
       "  <thead>\n",
       "    <tr style=\"text-align: right;\">\n",
       "      <th></th>\n",
       "      <th>pred_negative</th>\n",
       "      <th>pred_neutral</th>\n",
       "      <th>pred_positive</th>\n",
       "    </tr>\n",
       "  </thead>\n",
       "  <tbody>\n",
       "    <tr>\n",
       "      <td>true_negative</td>\n",
       "      <td>0.237899</td>\n",
       "      <td>0.704428</td>\n",
       "      <td>0.057673</td>\n",
       "    </tr>\n",
       "    <tr>\n",
       "      <td>true_neutral</td>\n",
       "      <td>0.148220</td>\n",
       "      <td>0.784739</td>\n",
       "      <td>0.067040</td>\n",
       "    </tr>\n",
       "    <tr>\n",
       "      <td>true_positive</td>\n",
       "      <td>0.122283</td>\n",
       "      <td>0.594429</td>\n",
       "      <td>0.283288</td>\n",
       "    </tr>\n",
       "  </tbody>\n",
       "</table>\n",
       "</div>"
      ],
      "text/plain": [
       "               pred_negative  pred_neutral  pred_positive\n",
       "true_negative       0.237899      0.704428       0.057673\n",
       "true_neutral        0.148220      0.784739       0.067040\n",
       "true_positive       0.122283      0.594429       0.283288"
      ]
     },
     "metadata": {},
     "output_type": "display_data"
    },
    {
     "name": "stdout",
     "output_type": "stream",
     "text": [
      "Percent correctly classified: 0.5908326967150497\n",
      "textblob_processed\n"
     ]
    },
    {
     "data": {
      "text/html": [
       "<div>\n",
       "<style scoped>\n",
       "    .dataframe tbody tr th:only-of-type {\n",
       "        vertical-align: middle;\n",
       "    }\n",
       "\n",
       "    .dataframe tbody tr th {\n",
       "        vertical-align: top;\n",
       "    }\n",
       "\n",
       "    .dataframe thead th {\n",
       "        text-align: right;\n",
       "    }\n",
       "</style>\n",
       "<table border=\"1\" class=\"dataframe\">\n",
       "  <thead>\n",
       "    <tr style=\"text-align: right;\">\n",
       "      <th></th>\n",
       "      <th>pred_negative</th>\n",
       "      <th>pred_neutral</th>\n",
       "      <th>pred_positive</th>\n",
       "    </tr>\n",
       "  </thead>\n",
       "  <tbody>\n",
       "    <tr>\n",
       "      <td>true_negative</td>\n",
       "      <td>0.040165</td>\n",
       "      <td>0.923790</td>\n",
       "      <td>0.036045</td>\n",
       "    </tr>\n",
       "    <tr>\n",
       "      <td>true_neutral</td>\n",
       "      <td>0.011458</td>\n",
       "      <td>0.941980</td>\n",
       "      <td>0.046563</td>\n",
       "    </tr>\n",
       "    <tr>\n",
       "      <td>true_positive</td>\n",
       "      <td>0.013587</td>\n",
       "      <td>0.894701</td>\n",
       "      <td>0.091712</td>\n",
       "    </tr>\n",
       "  </tbody>\n",
       "</table>\n",
       "</div>"
      ],
      "text/plain": [
       "               pred_negative  pred_neutral  pred_positive\n",
       "true_negative       0.040165      0.923790       0.036045\n",
       "true_neutral        0.011458      0.941980       0.046563\n",
       "true_positive       0.013587      0.894701       0.091712"
      ]
     },
     "metadata": {},
     "output_type": "display_data"
    },
    {
     "name": "stdout",
     "output_type": "stream",
     "text": [
      "Percent correctly classified: 0.6169595110771581\n",
      "vader_processed\n"
     ]
    },
    {
     "data": {
      "text/html": [
       "<div>\n",
       "<style scoped>\n",
       "    .dataframe tbody tr th:only-of-type {\n",
       "        vertical-align: middle;\n",
       "    }\n",
       "\n",
       "    .dataframe tbody tr th {\n",
       "        vertical-align: top;\n",
       "    }\n",
       "\n",
       "    .dataframe thead th {\n",
       "        text-align: right;\n",
       "    }\n",
       "</style>\n",
       "<table border=\"1\" class=\"dataframe\">\n",
       "  <thead>\n",
       "    <tr style=\"text-align: right;\">\n",
       "      <th></th>\n",
       "      <th>pred_negative</th>\n",
       "      <th>pred_neutral</th>\n",
       "      <th>pred_positive</th>\n",
       "    </tr>\n",
       "  </thead>\n",
       "  <tbody>\n",
       "    <tr>\n",
       "      <td>true_negative</td>\n",
       "      <td>0.087539</td>\n",
       "      <td>0.869207</td>\n",
       "      <td>0.043254</td>\n",
       "    </tr>\n",
       "    <tr>\n",
       "      <td>true_neutral</td>\n",
       "      <td>0.066309</td>\n",
       "      <td>0.872989</td>\n",
       "      <td>0.060702</td>\n",
       "    </tr>\n",
       "    <tr>\n",
       "      <td>true_positive</td>\n",
       "      <td>0.051630</td>\n",
       "      <td>0.817935</td>\n",
       "      <td>0.130435</td>\n",
       "    </tr>\n",
       "  </tbody>\n",
       "</table>\n",
       "</div>"
      ],
      "text/plain": [
       "               pred_negative  pred_neutral  pred_positive\n",
       "true_negative       0.087539      0.869207       0.043254\n",
       "true_neutral        0.066309      0.872989       0.060702\n",
       "true_positive       0.051630      0.817935       0.130435"
      ]
     },
     "metadata": {},
     "output_type": "display_data"
    },
    {
     "name": "stdout",
     "output_type": "stream",
     "text": [
      "Percent correctly classified: 0.5894576012223071\n"
     ]
    }
   ],
   "source": [
    "for col, df_tmp in zip(columns, df_cmats):\n",
    "    print(col)\n",
    "    display(df_tmp)\n",
    "    print(f\"Percent correctly classified: {df_tmp.values.diagonal().dot(weights)}\")"
   ]
  },
  {
   "cell_type": "code",
   "execution_count": null,
   "metadata": {},
   "outputs": [],
   "source": []
  },
  {
   "cell_type": "code",
   "execution_count": null,
   "metadata": {},
   "outputs": [],
   "source": []
  },
  {
   "cell_type": "code",
   "execution_count": null,
   "metadata": {},
   "outputs": [],
   "source": []
  },
  {
   "cell_type": "code",
   "execution_count": null,
   "metadata": {},
   "outputs": [],
   "source": []
  }
 ],
 "metadata": {
  "kernelspec": {
   "display_name": "twitter_analysis",
   "language": "python",
   "name": "twitter_analysis"
  },
  "language_info": {
   "codemirror_mode": {
    "name": "ipython",
    "version": 3
   },
   "file_extension": ".py",
   "mimetype": "text/x-python",
   "name": "python",
   "nbconvert_exporter": "python",
   "pygments_lexer": "ipython3",
   "version": "3.7.0"
  }
 },
 "nbformat": 4,
 "nbformat_minor": 2
}
