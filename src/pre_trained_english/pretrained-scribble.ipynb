{
 "cells": [
  {
   "cell_type": "markdown",
   "metadata": {},
   "source": [
    "# Sentiment analysis using pre-trained models on English twitter data"
   ]
  },
  {
   "cell_type": "markdown",
   "metadata": {},
   "source": [
    "## Environment\n",
    "\n",
    "- google-cloud-language\n",
    "- pip:\n",
    "   - vaderSentiment\n",
    "   - textblob"
   ]
  },
  {
   "cell_type": "code",
   "execution_count": 1,
   "metadata": {},
   "outputs": [],
   "source": [
    "# change to root directory of project\n",
    "import os\n",
    "os.chdir('/home/tm/sciebo/corona/twitter_analysis/')"
   ]
  },
  {
   "cell_type": "markdown",
   "metadata": {},
   "source": [
    "## Create data"
   ]
  },
  {
   "cell_type": "code",
   "execution_count": 2,
   "metadata": {},
   "outputs": [],
   "source": [
    "import pandas as pd\n",
    "pd.set_option('max_colwidth', 100)"
   ]
  },
  {
   "cell_type": "code",
   "execution_count": 9,
   "metadata": {},
   "outputs": [],
   "source": [
    "sentences = [\n",
    "    \"Today is the best day ever, I love it so much!\",\n",
    "    \"I like that dress a lot, it fits you very well, good job!\",\n",
    "    \"Teslas stockprice rose to a new high today. Will this be the end of GM?\",\n",
    "    \"Experts have compared the ongoing Corona epidemic with the spanish flu.\",\n",
    "    \"President Trump can go ** himself, I **** hate that bitch\",\n",
    "    \"President Trump can go fuck himself, I fucking hate that bitch\",\n",
    "    \"President Trump can go ** himself, I **** hate him\",\n",
    "    \"President Trump can go fuck himself, I fucking hate him\",\n",
    "]\n",
    "\n",
    "sentiments = [\n",
    "    'pos',\n",
    "    'pos',\n",
    "    'neu',\n",
    "    'neu',\n",
    "    'neg',\n",
    "    'neg',\n",
    "    'neg',\n",
    "    'neg',\n",
    "]"
   ]
  },
  {
   "cell_type": "code",
   "execution_count": 10,
   "metadata": {},
   "outputs": [
    {
     "data": {
      "text/html": [
       "<div>\n",
       "<style scoped>\n",
       "    .dataframe tbody tr th:only-of-type {\n",
       "        vertical-align: middle;\n",
       "    }\n",
       "\n",
       "    .dataframe tbody tr th {\n",
       "        vertical-align: top;\n",
       "    }\n",
       "\n",
       "    .dataframe thead th {\n",
       "        text-align: right;\n",
       "    }\n",
       "</style>\n",
       "<table border=\"1\" class=\"dataframe\">\n",
       "  <thead>\n",
       "    <tr style=\"text-align: right;\">\n",
       "      <th></th>\n",
       "      <th>text</th>\n",
       "      <th>sentiment</th>\n",
       "    </tr>\n",
       "  </thead>\n",
       "  <tbody>\n",
       "    <tr>\n",
       "      <td>0</td>\n",
       "      <td>Today is the best day ever, I love it so much!</td>\n",
       "      <td>pos</td>\n",
       "    </tr>\n",
       "    <tr>\n",
       "      <td>1</td>\n",
       "      <td>I like that dress a lot, it fits you very well, good job!</td>\n",
       "      <td>pos</td>\n",
       "    </tr>\n",
       "    <tr>\n",
       "      <td>2</td>\n",
       "      <td>Teslas stockprice rose to a new high today. Will this be the end of GM?</td>\n",
       "      <td>neu</td>\n",
       "    </tr>\n",
       "    <tr>\n",
       "      <td>3</td>\n",
       "      <td>Experts have compared the ongoing Corona epidemic with the spanish flu.</td>\n",
       "      <td>neu</td>\n",
       "    </tr>\n",
       "    <tr>\n",
       "      <td>4</td>\n",
       "      <td>President Trump can go ** himself, I **** hate that bitch</td>\n",
       "      <td>neg</td>\n",
       "    </tr>\n",
       "    <tr>\n",
       "      <td>5</td>\n",
       "      <td>President Trump can go fuck himself, I fucking hate that bitch</td>\n",
       "      <td>neg</td>\n",
       "    </tr>\n",
       "    <tr>\n",
       "      <td>6</td>\n",
       "      <td>President Trump can go ** himself, I **** hate him</td>\n",
       "      <td>neg</td>\n",
       "    </tr>\n",
       "    <tr>\n",
       "      <td>7</td>\n",
       "      <td>President Trump can go fuck himself, I fucking hate him</td>\n",
       "      <td>neg</td>\n",
       "    </tr>\n",
       "  </tbody>\n",
       "</table>\n",
       "</div>"
      ],
      "text/plain": [
       "                                                                      text  \\\n",
       "0                           Today is the best day ever, I love it so much!   \n",
       "1                I like that dress a lot, it fits you very well, good job!   \n",
       "2  Teslas stockprice rose to a new high today. Will this be the end of GM?   \n",
       "3  Experts have compared the ongoing Corona epidemic with the spanish flu.   \n",
       "4                President Trump can go ** himself, I **** hate that bitch   \n",
       "5           President Trump can go fuck himself, I fucking hate that bitch   \n",
       "6                       President Trump can go ** himself, I **** hate him   \n",
       "7                  President Trump can go fuck himself, I fucking hate him   \n",
       "\n",
       "  sentiment  \n",
       "0       pos  \n",
       "1       pos  \n",
       "2       neu  \n",
       "3       neu  \n",
       "4       neg  \n",
       "5       neg  \n",
       "6       neg  \n",
       "7       neg  "
      ]
     },
     "execution_count": 10,
     "metadata": {},
     "output_type": "execute_result"
    }
   ],
   "source": [
    "data = {\n",
    "    'text': sentences,\n",
    "    'sentiment': sentiments,\n",
    "}\n",
    "\n",
    "df = pd.DataFrame(data)\n",
    "df"
   ]
  },
  {
   "cell_type": "markdown",
   "metadata": {},
   "source": [
    "## Comparison of various packages"
   ]
  },
  {
   "cell_type": "markdown",
   "metadata": {},
   "source": [
    "## TextBlob"
   ]
  },
  {
   "cell_type": "code",
   "execution_count": 11,
   "metadata": {},
   "outputs": [],
   "source": [
    "from textblob import TextBlob"
   ]
  },
  {
   "cell_type": "code",
   "execution_count": 12,
   "metadata": {},
   "outputs": [],
   "source": [
    "sentiment_textblob = []\n",
    "for sentence in df.text:\n",
    "    testemonial = TextBlob(sentence).sentiment\n",
    "    sentiment_textblob.append(testemonial.polarity)"
   ]
  },
  {
   "cell_type": "markdown",
   "metadata": {},
   "source": [
    "## Vader"
   ]
  },
  {
   "cell_type": "code",
   "execution_count": 13,
   "metadata": {},
   "outputs": [],
   "source": [
    "from vaderSentiment.vaderSentiment import SentimentIntensityAnalyzer\n",
    "analyzer = SentimentIntensityAnalyzer()"
   ]
  },
  {
   "cell_type": "code",
   "execution_count": 14,
   "metadata": {},
   "outputs": [],
   "source": [
    "sentiment_vader = []\n",
    "for sentence in df.text:\n",
    "    sentiment_vader.append(analyzer.polarity_scores(sentence)['compound'])"
   ]
  },
  {
   "cell_type": "markdown",
   "metadata": {},
   "source": [
    "## Stanford NLP (not working)"
   ]
  },
  {
   "cell_type": "code",
   "execution_count": null,
   "metadata": {},
   "outputs": [],
   "source": []
  },
  {
   "cell_type": "markdown",
   "metadata": {},
   "source": [
    "## Google NLP"
   ]
  },
  {
   "cell_type": "code",
   "execution_count": 15,
   "metadata": {},
   "outputs": [],
   "source": [
    "import requests\n",
    "import json\n",
    "import argparse"
   ]
  },
  {
   "cell_type": "code",
   "execution_count": 16,
   "metadata": {},
   "outputs": [],
   "source": [
    "from google.cloud import language\n",
    "from google.oauth2 import service_account\n",
    "from google.cloud.language import enums\n",
    "from google.cloud.language import types"
   ]
  },
  {
   "cell_type": "code",
   "execution_count": 17,
   "metadata": {},
   "outputs": [],
   "source": [
    "client = language.LanguageServiceClient.from_service_account_json('src/keys/ose-twitter-analysis-8508806b2efb.json')"
   ]
  },
  {
   "cell_type": "code",
   "execution_count": 18,
   "metadata": {},
   "outputs": [],
   "source": [
    "sentiment_google = []\n",
    "for sentence in df.text:\n",
    "    document = types.Document(\n",
    "        content=sentence,\n",
    "        type=enums.Document.Type.PLAIN_TEXT\n",
    "    )\n",
    "    annotations = client.analyze_sentiment(document=document)\n",
    "    score = annotations.document_sentiment.score\n",
    "    #magnitude = annotations.document_sentiment.magnitude\n",
    "    sentiment_google.append(score)"
   ]
  },
  {
   "cell_type": "markdown",
   "metadata": {},
   "source": [
    "## Comparison"
   ]
  },
  {
   "cell_type": "code",
   "execution_count": 19,
   "metadata": {},
   "outputs": [],
   "source": [
    "df['google'] = sentiment_google\n",
    "df['textblob'] = sentiment_textblob\n",
    "df['vader'] = sentiment_vader"
   ]
  },
  {
   "cell_type": "code",
   "execution_count": 20,
   "metadata": {},
   "outputs": [
    {
     "data": {
      "text/html": [
       "<div>\n",
       "<style scoped>\n",
       "    .dataframe tbody tr th:only-of-type {\n",
       "        vertical-align: middle;\n",
       "    }\n",
       "\n",
       "    .dataframe tbody tr th {\n",
       "        vertical-align: top;\n",
       "    }\n",
       "\n",
       "    .dataframe thead th {\n",
       "        text-align: right;\n",
       "    }\n",
       "</style>\n",
       "<table border=\"1\" class=\"dataframe\">\n",
       "  <thead>\n",
       "    <tr style=\"text-align: right;\">\n",
       "      <th></th>\n",
       "      <th>text</th>\n",
       "      <th>sentiment</th>\n",
       "      <th>google</th>\n",
       "      <th>textblob</th>\n",
       "      <th>vader</th>\n",
       "    </tr>\n",
       "  </thead>\n",
       "  <tbody>\n",
       "    <tr>\n",
       "      <td>0</td>\n",
       "      <td>Today is the best day ever, I love it so much!</td>\n",
       "      <td>pos</td>\n",
       "      <td>0.9</td>\n",
       "      <td>0.583333</td>\n",
       "      <td>0.8655</td>\n",
       "    </tr>\n",
       "    <tr>\n",
       "      <td>1</td>\n",
       "      <td>I like that dress a lot, it fits you very well, good job!</td>\n",
       "      <td>pos</td>\n",
       "      <td>0.9</td>\n",
       "      <td>0.537500</td>\n",
       "      <td>0.8107</td>\n",
       "    </tr>\n",
       "    <tr>\n",
       "      <td>2</td>\n",
       "      <td>Teslas stockprice rose to a new high today. Will this be the end of GM?</td>\n",
       "      <td>neu</td>\n",
       "      <td>0.0</td>\n",
       "      <td>0.298788</td>\n",
       "      <td>0.0000</td>\n",
       "    </tr>\n",
       "    <tr>\n",
       "      <td>3</td>\n",
       "      <td>Experts have compared the ongoing Corona epidemic with the spanish flu.</td>\n",
       "      <td>neu</td>\n",
       "      <td>0.0</td>\n",
       "      <td>0.000000</td>\n",
       "      <td>-0.3818</td>\n",
       "    </tr>\n",
       "    <tr>\n",
       "      <td>4</td>\n",
       "      <td>President Trump can go ** himself, I **** hate that bitch</td>\n",
       "      <td>neg</td>\n",
       "      <td>-0.3</td>\n",
       "      <td>-0.800000</td>\n",
       "      <td>-0.8176</td>\n",
       "    </tr>\n",
       "    <tr>\n",
       "      <td>5</td>\n",
       "      <td>President Trump can go fuck himself, I fucking hate that bitch</td>\n",
       "      <td>neg</td>\n",
       "      <td>-0.6</td>\n",
       "      <td>-0.600000</td>\n",
       "      <td>-0.9110</td>\n",
       "    </tr>\n",
       "    <tr>\n",
       "      <td>6</td>\n",
       "      <td>President Trump can go ** himself, I **** hate him</td>\n",
       "      <td>neg</td>\n",
       "      <td>-0.5</td>\n",
       "      <td>-0.800000</td>\n",
       "      <td>-0.5719</td>\n",
       "    </tr>\n",
       "    <tr>\n",
       "      <td>7</td>\n",
       "      <td>President Trump can go fuck himself, I fucking hate him</td>\n",
       "      <td>neg</td>\n",
       "      <td>-0.6</td>\n",
       "      <td>-0.600000</td>\n",
       "      <td>-0.8173</td>\n",
       "    </tr>\n",
       "  </tbody>\n",
       "</table>\n",
       "</div>"
      ],
      "text/plain": [
       "                                                                      text  \\\n",
       "0                           Today is the best day ever, I love it so much!   \n",
       "1                I like that dress a lot, it fits you very well, good job!   \n",
       "2  Teslas stockprice rose to a new high today. Will this be the end of GM?   \n",
       "3  Experts have compared the ongoing Corona epidemic with the spanish flu.   \n",
       "4                President Trump can go ** himself, I **** hate that bitch   \n",
       "5           President Trump can go fuck himself, I fucking hate that bitch   \n",
       "6                       President Trump can go ** himself, I **** hate him   \n",
       "7                  President Trump can go fuck himself, I fucking hate him   \n",
       "\n",
       "  sentiment  google  textblob   vader  \n",
       "0       pos     0.9  0.583333  0.8655  \n",
       "1       pos     0.9  0.537500  0.8107  \n",
       "2       neu     0.0  0.298788  0.0000  \n",
       "3       neu     0.0  0.000000 -0.3818  \n",
       "4       neg    -0.3 -0.800000 -0.8176  \n",
       "5       neg    -0.6 -0.600000 -0.9110  \n",
       "6       neg    -0.5 -0.800000 -0.5719  \n",
       "7       neg    -0.6 -0.600000 -0.8173  "
      ]
     },
     "execution_count": 20,
     "metadata": {},
     "output_type": "execute_result"
    }
   ],
   "source": [
    "df"
   ]
  },
  {
   "cell_type": "code",
   "execution_count": null,
   "metadata": {},
   "outputs": [],
   "source": []
  },
  {
   "cell_type": "code",
   "execution_count": null,
   "metadata": {},
   "outputs": [],
   "source": []
  }
 ],
 "metadata": {
  "kernelspec": {
   "display_name": "twitter_analysis",
   "language": "python",
   "name": "twitter_analysis"
  },
  "language_info": {
   "codemirror_mode": {
    "name": "ipython",
    "version": 3
   },
   "file_extension": ".py",
   "mimetype": "text/x-python",
   "name": "python",
   "nbconvert_exporter": "python",
   "pygments_lexer": "ipython3",
   "version": "3.7.0"
  }
 },
 "nbformat": 4,
 "nbformat_minor": 2
}
