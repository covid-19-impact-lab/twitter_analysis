{
 "cells": [
  {
   "cell_type": "markdown",
   "metadata": {},
   "source": [
    "# Twitter Analysis\n",
    "\n",
    "## Working with the sample of the data\n",
    "\n",
    "To get started, you find 1,000 tweets in `tweets.csv` in the same folder as the notebook."
   ]
  },
  {
   "cell_type": "code",
   "execution_count": 1,
   "metadata": {},
   "outputs": [],
   "source": [
    "%matplotlib inline\n",
    "\n",
    "import sys\n",
    "sys.path.append(\"..\")\n",
    "\n",
    "\n",
    "from pathlib import Path\n",
    "\n",
    "import matplotlib.pyplot as plt\n",
    "import numpy as np\n",
    "import pandas as pd\n",
    "\n",
    "from src.shared import read_parquet_in_date_chunks"
   ]
  },
  {
   "cell_type": "code",
   "execution_count": 2,
   "metadata": {},
   "outputs": [],
   "source": [
    "df = pd.read_csv(\n",
    "    \"tweets.csv\",\n",
    "    index_col=\"id\",\n",
    "    parse_dates=[\"date\"],\n",
    "    infer_datetime_format=True,\n",
    ")"
   ]
  },
  {
   "cell_type": "markdown",
   "metadata": {},
   "source": [
    "Here are some general statistics from the data."
   ]
  },
  {
   "cell_type": "code",
   "execution_count": 3,
   "metadata": {},
   "outputs": [
    {
     "data": {
      "text/plain": [
       "(1000, 14)"
      ]
     },
     "execution_count": 3,
     "metadata": {},
     "output_type": "execute_result"
    }
   ],
   "source": [
    "df.shape"
   ]
  },
  {
   "cell_type": "code",
   "execution_count": 4,
   "metadata": {},
   "outputs": [
    {
     "data": {
      "text/plain": [
       "Index(['username', 'to', 'text', 'retweets', 'favorites', 'replies',\n",
       "       'permalink', 'author_id', 'date', 'hashtags', 'mentions', 'urls',\n",
       "       'state', 'city'],\n",
       "      dtype='object')"
      ]
     },
     "execution_count": 4,
     "metadata": {},
     "output_type": "execute_result"
    }
   ],
   "source": [
    "df.columns"
   ]
  },
  {
   "cell_type": "code",
   "execution_count": 5,
   "metadata": {},
   "outputs": [
    {
     "data": {
      "text/html": [
       "<div>\n",
       "<style scoped>\n",
       "    .dataframe tbody tr th:only-of-type {\n",
       "        vertical-align: middle;\n",
       "    }\n",
       "\n",
       "    .dataframe tbody tr th {\n",
       "        vertical-align: top;\n",
       "    }\n",
       "\n",
       "    .dataframe thead th {\n",
       "        text-align: right;\n",
       "    }\n",
       "</style>\n",
       "<table border=\"1\" class=\"dataframe\">\n",
       "  <thead>\n",
       "    <tr style=\"text-align: right;\">\n",
       "      <th></th>\n",
       "      <th>username</th>\n",
       "      <th>to</th>\n",
       "      <th>text</th>\n",
       "      <th>retweets</th>\n",
       "      <th>favorites</th>\n",
       "      <th>replies</th>\n",
       "      <th>permalink</th>\n",
       "      <th>author_id</th>\n",
       "      <th>date</th>\n",
       "      <th>hashtags</th>\n",
       "      <th>mentions</th>\n",
       "      <th>urls</th>\n",
       "      <th>state</th>\n",
       "      <th>city</th>\n",
       "    </tr>\n",
       "    <tr>\n",
       "      <th>id</th>\n",
       "      <th></th>\n",
       "      <th></th>\n",
       "      <th></th>\n",
       "      <th></th>\n",
       "      <th></th>\n",
       "      <th></th>\n",
       "      <th></th>\n",
       "      <th></th>\n",
       "      <th></th>\n",
       "      <th></th>\n",
       "      <th></th>\n",
       "      <th></th>\n",
       "      <th></th>\n",
       "      <th></th>\n",
       "    </tr>\n",
       "  </thead>\n",
       "  <tbody>\n",
       "    <tr>\n",
       "      <th>1238819922941272064</th>\n",
       "      <td>5n1pp3r5</td>\n",
       "      <td>NaN</td>\n",
       "      <td>Aufgrund der Panik rund um #Corona könnte man ...</td>\n",
       "      <td>0.0</td>\n",
       "      <td>0.0</td>\n",
       "      <td>0.0</td>\n",
       "      <td>https://twitter.com/5n1pp3r5/status/1238819922...</td>\n",
       "      <td>8.064796e+07</td>\n",
       "      <td>2020-03-14 13:31:00+00:00</td>\n",
       "      <td>#Corona</td>\n",
       "      <td>NaN</td>\n",
       "      <td>NaN</td>\n",
       "      <td>Rheinland-Pfalz</td>\n",
       "      <td>Koblenz</td>\n",
       "    </tr>\n",
       "    <tr>\n",
       "      <th>1246357996692783104</th>\n",
       "      <td>Adrian_Willig</td>\n",
       "      <td>NaN</td>\n",
       "      <td>So hat sich das Verhalten der Deutschen durch ...</td>\n",
       "      <td>0.0</td>\n",
       "      <td>0.0</td>\n",
       "      <td>0.0</td>\n",
       "      <td>https://twitter.com/Adrian_Willig/status/12463...</td>\n",
       "      <td>1.273438e+09</td>\n",
       "      <td>2020-04-04 08:44:37+00:00</td>\n",
       "      <td>NaN</td>\n",
       "      <td>NaN</td>\n",
       "      <td>https://www.handelsblatt.com/25713066.html?sha...</td>\n",
       "      <td>Hamburg</td>\n",
       "      <td>Hamburg</td>\n",
       "    </tr>\n",
       "    <tr>\n",
       "      <th>1248495455148756994</th>\n",
       "      <td>merkelfisch</td>\n",
       "      <td>NaN</td>\n",
       "      <td>Wer indische Götterfiguren an Tempeln kennt, a...</td>\n",
       "      <td>0.0</td>\n",
       "      <td>0.0</td>\n",
       "      <td>0.0</td>\n",
       "      <td>https://twitter.com/merkelfisch/status/1248495...</td>\n",
       "      <td>1.166727e+18</td>\n",
       "      <td>2020-04-10 06:18:07+00:00</td>\n",
       "      <td>NaN</td>\n",
       "      <td>NaN</td>\n",
       "      <td>NaN</td>\n",
       "      <td>Berlin</td>\n",
       "      <td>Berlin</td>\n",
       "    </tr>\n",
       "    <tr>\n",
       "      <th>1242318886181142528</th>\n",
       "      <td>ZDFheute</td>\n",
       "      <td>NaN</td>\n",
       "      <td>Ein Land im Shutdown: In #Italien gibt es deut...</td>\n",
       "      <td>18.0</td>\n",
       "      <td>78.0</td>\n",
       "      <td>25.0</td>\n",
       "      <td>https://twitter.com/ZDFheute/status/1242318886...</td>\n",
       "      <td>1.101354e+09</td>\n",
       "      <td>2020-03-24 05:14:38+00:00</td>\n",
       "      <td>#Italien #Coronavirus #Covid19</td>\n",
       "      <td>NaN</td>\n",
       "      <td>https://www.zdf.de/nachrichten/politik/coronav...</td>\n",
       "      <td>Hessen</td>\n",
       "      <td>Wiesbaden</td>\n",
       "    </tr>\n",
       "    <tr>\n",
       "      <th>1241426351309062145</th>\n",
       "      <td>DocGoy_com</td>\n",
       "      <td>NaN</td>\n",
       "      <td>RT docgoy: Eigentlich ist es dafür schon zu sp...</td>\n",
       "      <td>0.0</td>\n",
       "      <td>0.0</td>\n",
       "      <td>0.0</td>\n",
       "      <td>https://twitter.com/DocGoy_com/status/12414263...</td>\n",
       "      <td>6.118681e+07</td>\n",
       "      <td>2020-03-21 18:08:01+00:00</td>\n",
       "      <td>#Corona #COVID #SARS #Prepper</td>\n",
       "      <td>NaN</td>\n",
       "      <td>https://blog.twitt-erfolg.de/2020/03/eigentlic...</td>\n",
       "      <td>Niedersachsen</td>\n",
       "      <td>Niedersachsen</td>\n",
       "    </tr>\n",
       "  </tbody>\n",
       "</table>\n",
       "</div>"
      ],
      "text/plain": [
       "                          username   to  \\\n",
       "id                                        \n",
       "1238819922941272064       5n1pp3r5  NaN   \n",
       "1246357996692783104  Adrian_Willig  NaN   \n",
       "1248495455148756994    merkelfisch  NaN   \n",
       "1242318886181142528       ZDFheute  NaN   \n",
       "1241426351309062145     DocGoy_com  NaN   \n",
       "\n",
       "                                                                  text  \\\n",
       "id                                                                       \n",
       "1238819922941272064  Aufgrund der Panik rund um #Corona könnte man ...   \n",
       "1246357996692783104  So hat sich das Verhalten der Deutschen durch ...   \n",
       "1248495455148756994  Wer indische Götterfiguren an Tempeln kennt, a...   \n",
       "1242318886181142528  Ein Land im Shutdown: In #Italien gibt es deut...   \n",
       "1241426351309062145  RT docgoy: Eigentlich ist es dafür schon zu sp...   \n",
       "\n",
       "                     retweets  favorites  replies  \\\n",
       "id                                                  \n",
       "1238819922941272064       0.0        0.0      0.0   \n",
       "1246357996692783104       0.0        0.0      0.0   \n",
       "1248495455148756994       0.0        0.0      0.0   \n",
       "1242318886181142528      18.0       78.0     25.0   \n",
       "1241426351309062145       0.0        0.0      0.0   \n",
       "\n",
       "                                                             permalink  \\\n",
       "id                                                                       \n",
       "1238819922941272064  https://twitter.com/5n1pp3r5/status/1238819922...   \n",
       "1246357996692783104  https://twitter.com/Adrian_Willig/status/12463...   \n",
       "1248495455148756994  https://twitter.com/merkelfisch/status/1248495...   \n",
       "1242318886181142528  https://twitter.com/ZDFheute/status/1242318886...   \n",
       "1241426351309062145  https://twitter.com/DocGoy_com/status/12414263...   \n",
       "\n",
       "                        author_id                      date  \\\n",
       "id                                                            \n",
       "1238819922941272064  8.064796e+07 2020-03-14 13:31:00+00:00   \n",
       "1246357996692783104  1.273438e+09 2020-04-04 08:44:37+00:00   \n",
       "1248495455148756994  1.166727e+18 2020-04-10 06:18:07+00:00   \n",
       "1242318886181142528  1.101354e+09 2020-03-24 05:14:38+00:00   \n",
       "1241426351309062145  6.118681e+07 2020-03-21 18:08:01+00:00   \n",
       "\n",
       "                                           hashtags mentions  \\\n",
       "id                                                             \n",
       "1238819922941272064                         #Corona      NaN   \n",
       "1246357996692783104                             NaN      NaN   \n",
       "1248495455148756994                             NaN      NaN   \n",
       "1242318886181142528  #Italien #Coronavirus #Covid19      NaN   \n",
       "1241426351309062145   #Corona #COVID #SARS #Prepper      NaN   \n",
       "\n",
       "                                                                  urls  \\\n",
       "id                                                                       \n",
       "1238819922941272064                                                NaN   \n",
       "1246357996692783104  https://www.handelsblatt.com/25713066.html?sha...   \n",
       "1248495455148756994                                                NaN   \n",
       "1242318886181142528  https://www.zdf.de/nachrichten/politik/coronav...   \n",
       "1241426351309062145  https://blog.twitt-erfolg.de/2020/03/eigentlic...   \n",
       "\n",
       "                               state           city  \n",
       "id                                                   \n",
       "1238819922941272064  Rheinland-Pfalz        Koblenz  \n",
       "1246357996692783104          Hamburg        Hamburg  \n",
       "1248495455148756994           Berlin         Berlin  \n",
       "1242318886181142528           Hessen      Wiesbaden  \n",
       "1241426351309062145    Niedersachsen  Niedersachsen  "
      ]
     },
     "execution_count": 5,
     "metadata": {},
     "output_type": "execute_result"
    }
   ],
   "source": [
    "df.head(5)"
   ]
  },
  {
   "cell_type": "code",
   "execution_count": 6,
   "metadata": {},
   "outputs": [
    {
     "data": {
      "text/html": [
       "<div>\n",
       "<style scoped>\n",
       "    .dataframe tbody tr th:only-of-type {\n",
       "        vertical-align: middle;\n",
       "    }\n",
       "\n",
       "    .dataframe tbody tr th {\n",
       "        vertical-align: top;\n",
       "    }\n",
       "\n",
       "    .dataframe thead th {\n",
       "        text-align: right;\n",
       "    }\n",
       "</style>\n",
       "<table border=\"1\" class=\"dataframe\">\n",
       "  <thead>\n",
       "    <tr style=\"text-align: right;\">\n",
       "      <th></th>\n",
       "      <th>retweets</th>\n",
       "      <th>favorites</th>\n",
       "      <th>replies</th>\n",
       "      <th>author_id</th>\n",
       "    </tr>\n",
       "  </thead>\n",
       "  <tbody>\n",
       "    <tr>\n",
       "      <th>count</th>\n",
       "      <td>1000.000000</td>\n",
       "      <td>1000.000000</td>\n",
       "      <td>1000.000000</td>\n",
       "      <td>1.000000e+03</td>\n",
       "    </tr>\n",
       "    <tr>\n",
       "      <th>mean</th>\n",
       "      <td>3.574000</td>\n",
       "      <td>19.377000</td>\n",
       "      <td>1.264000</td>\n",
       "      <td>2.689278e+17</td>\n",
       "    </tr>\n",
       "    <tr>\n",
       "      <th>std</th>\n",
       "      <td>33.932402</td>\n",
       "      <td>220.627104</td>\n",
       "      <td>7.509774</td>\n",
       "      <td>4.497346e+17</td>\n",
       "    </tr>\n",
       "    <tr>\n",
       "      <th>min</th>\n",
       "      <td>0.000000</td>\n",
       "      <td>0.000000</td>\n",
       "      <td>0.000000</td>\n",
       "      <td>4.146830e+05</td>\n",
       "    </tr>\n",
       "    <tr>\n",
       "      <th>25%</th>\n",
       "      <td>0.000000</td>\n",
       "      <td>0.000000</td>\n",
       "      <td>0.000000</td>\n",
       "      <td>7.963207e+07</td>\n",
       "    </tr>\n",
       "    <tr>\n",
       "      <th>50%</th>\n",
       "      <td>0.000000</td>\n",
       "      <td>1.000000</td>\n",
       "      <td>0.000000</td>\n",
       "      <td>9.139903e+08</td>\n",
       "    </tr>\n",
       "    <tr>\n",
       "      <th>75%</th>\n",
       "      <td>1.000000</td>\n",
       "      <td>3.000000</td>\n",
       "      <td>1.000000</td>\n",
       "      <td>7.315124e+17</td>\n",
       "    </tr>\n",
       "    <tr>\n",
       "      <th>max</th>\n",
       "      <td>826.000000</td>\n",
       "      <td>5294.000000</td>\n",
       "      <td>156.000000</td>\n",
       "      <td>1.248712e+18</td>\n",
       "    </tr>\n",
       "  </tbody>\n",
       "</table>\n",
       "</div>"
      ],
      "text/plain": [
       "          retweets    favorites      replies     author_id\n",
       "count  1000.000000  1000.000000  1000.000000  1.000000e+03\n",
       "mean      3.574000    19.377000     1.264000  2.689278e+17\n",
       "std      33.932402   220.627104     7.509774  4.497346e+17\n",
       "min       0.000000     0.000000     0.000000  4.146830e+05\n",
       "25%       0.000000     0.000000     0.000000  7.963207e+07\n",
       "50%       0.000000     1.000000     0.000000  9.139903e+08\n",
       "75%       1.000000     3.000000     1.000000  7.315124e+17\n",
       "max     826.000000  5294.000000   156.000000  1.248712e+18"
      ]
     },
     "execution_count": 6,
     "metadata": {},
     "output_type": "execute_result"
    }
   ],
   "source": [
    "df.describe()"
   ]
  },
  {
   "cell_type": "markdown",
   "metadata": {},
   "source": [
    "### Tweets over time"
   ]
  },
  {
   "cell_type": "code",
   "execution_count": 7,
   "metadata": {},
   "outputs": [
    {
     "data": {
      "text/plain": [
       "<matplotlib.axes._subplots.AxesSubplot at 0x1a2abeab748>"
      ]
     },
     "execution_count": 7,
     "metadata": {},
     "output_type": "execute_result"
    },
    {
     "data": {
      "image/png": "[encoded data removed]",
      "text/plain": [
       "<Figure size 864x576 with 1 Axes>"
      ]
     },
     "metadata": {
      "needs_background": "light"
     },
     "output_type": "display_data"
    }
   ],
   "source": [
    "df.groupby(df.date.dt.date).size().plot.bar(figsize=(12, 8))"
   ]
  },
  {
   "cell_type": "markdown",
   "metadata": {},
   "source": [
    "### Hashtags over time"
   ]
  },
  {
   "cell_type": "code",
   "execution_count": 8,
   "metadata": {},
   "outputs": [
    {
     "data": {
      "text/plain": [
       "<matplotlib.axes._subplots.AxesSubplot at 0x1a2ac58f7c8>"
      ]
     },
     "execution_count": 8,
     "metadata": {},
     "output_type": "execute_result"
    },
    {
     "data": {
      "image/png": "[encoded data removed]",
      "text/plain": [
       "<Figure size 864x576 with 1 Axes>"
      ]
     },
     "metadata": {
      "needs_background": "light"
     },
     "output_type": "display_data"
    }
   ],
   "source": [
    "hashtags = df.hashtags.str.split(\" \", expand=True).reset_index()\n",
    "hashtags = (\n",
    "    hashtags.melt(id_vars=\"id\", value_vars=range(21), value_name=\"hashtag\")\n",
    "    .drop(columns=\"variable\")\n",
    "    .dropna()\n",
    ")    \n",
    "hashtags = hashtags.merge(df[\"date\"], on=\"id\").drop(columns=\"id\")\n",
    "hashtags[\"hashtag\"] = hashtags[\"hashtag\"].str.lower()\n",
    "top_twenty_hashtags = hashtags.hashtag.value_counts()[:10].index\n",
    "hashtags.groupby(hashtags.date.dt.week)[\"hashtag\"].value_counts().unstack().fillna(0)[top_twenty_hashtags].plot(figsize=(12, 8))"
   ]
  },
  {
   "cell_type": "markdown",
   "metadata": {},
   "source": [
    "## Working with the complete corpus\n",
    "\n",
    "To work with the whole corpus of collected tweets, you need to contact us to gain access. Here are some descriptives."
   ]
  },
  {
   "cell_type": "code",
   "execution_count": 9,
   "metadata": {},
   "outputs": [],
   "source": [
    "df = read_parquet_in_date_chunks(\"../bld/out/data/tweets-cleaned\")"
   ]
  },
  {
   "cell_type": "code",
   "execution_count": 10,
   "metadata": {},
   "outputs": [
    {
     "data": {
      "text/html": [
       "<div>\n",
       "<style scoped>\n",
       "    .dataframe tbody tr th:only-of-type {\n",
       "        vertical-align: middle;\n",
       "    }\n",
       "\n",
       "    .dataframe tbody tr th {\n",
       "        vertical-align: top;\n",
       "    }\n",
       "\n",
       "    .dataframe thead th {\n",
       "        text-align: right;\n",
       "    }\n",
       "</style>\n",
       "<table border=\"1\" class=\"dataframe\">\n",
       "  <thead>\n",
       "    <tr style=\"text-align: right;\">\n",
       "      <th></th>\n",
       "      <th>username</th>\n",
       "      <th>to</th>\n",
       "      <th>text</th>\n",
       "      <th>retweets</th>\n",
       "      <th>favorites</th>\n",
       "      <th>replies</th>\n",
       "      <th>permalink</th>\n",
       "      <th>author_id</th>\n",
       "      <th>date</th>\n",
       "      <th>hashtags</th>\n",
       "      <th>mentions</th>\n",
       "      <th>urls</th>\n",
       "      <th>state</th>\n",
       "      <th>city</th>\n",
       "    </tr>\n",
       "    <tr>\n",
       "      <th>id</th>\n",
       "      <th></th>\n",
       "      <th></th>\n",
       "      <th></th>\n",
       "      <th></th>\n",
       "      <th></th>\n",
       "      <th></th>\n",
       "      <th></th>\n",
       "      <th></th>\n",
       "      <th></th>\n",
       "      <th></th>\n",
       "      <th></th>\n",
       "      <th></th>\n",
       "      <th></th>\n",
       "      <th></th>\n",
       "    </tr>\n",
       "  </thead>\n",
       "  <tbody>\n",
       "    <tr>\n",
       "      <th>1237467210949505024</th>\n",
       "      <td>offpulse</td>\n",
       "      <td>None</td>\n",
       "      <td>Der Fux‘n gibt sich jetzt mexikanisch: #RheinR...</td>\n",
       "      <td>0.0</td>\n",
       "      <td>0.0</td>\n",
       "      <td>1.0</td>\n",
       "      <td>https://twitter.com/offpulse/status/1237467210...</td>\n",
       "      <td>2.836726e+08</td>\n",
       "      <td>2020-03-10 19:55:48+00:00</td>\n",
       "      <td>#RheinRuhrTreff #Kolping #Bubenabend</td>\n",
       "      <td>None</td>\n",
       "      <td>https://www.swarmapp.com/c/cGr85JWKMeq</td>\n",
       "      <td>Baden-Wuerttemberg</td>\n",
       "      <td>Freiburg im Breisgau</td>\n",
       "    </tr>\n",
       "    <tr>\n",
       "      <th>1237444332795412482</th>\n",
       "      <td>PauleHeyman</td>\n",
       "      <td>BB_Ger</td>\n",
       "      <td>#Corona is ja Egtl jetzt DIE CHANCE für sat1 d...</td>\n",
       "      <td>0.0</td>\n",
       "      <td>0.0</td>\n",
       "      <td>0.0</td>\n",
       "      <td>https://twitter.com/PauleHeyman/status/1237444...</td>\n",
       "      <td>1.251627e+08</td>\n",
       "      <td>2020-03-10 18:24:54+00:00</td>\n",
       "      <td>#Corona #BigFail</td>\n",
       "      <td>None</td>\n",
       "      <td>https://twitter.com/BB_Ger/status/123728763058...</td>\n",
       "      <td>Baden-Wuerttemberg</td>\n",
       "      <td>Freiburg im Breisgau</td>\n",
       "    </tr>\n",
       "    <tr>\n",
       "      <th>1237485564309487622</th>\n",
       "      <td>MagicManShow</td>\n",
       "      <td>None</td>\n",
       "      <td>Es ist unsere Verantwortung, diejenigen Mensch...</td>\n",
       "      <td>0.0</td>\n",
       "      <td>1.0</td>\n",
       "      <td>1.0</td>\n",
       "      <td>https://twitter.com/MagicManShow/status/123748...</td>\n",
       "      <td>4.553677e+07</td>\n",
       "      <td>2020-03-10 21:08:44+00:00</td>\n",
       "      <td>None</td>\n",
       "      <td>None</td>\n",
       "      <td>https://www.tagesspiegel.de/gesellschaft/panor...</td>\n",
       "      <td>Baden-Wuerttemberg</td>\n",
       "      <td>Freiburg im Breisgau</td>\n",
       "    </tr>\n",
       "    <tr>\n",
       "      <th>1237392844802801668</th>\n",
       "      <td>BinesBastelstu1</td>\n",
       "      <td>BinesBastelstu1</td>\n",
       "      <td>Zumal die 1000 eine rein willkürliche Zahl ist...</td>\n",
       "      <td>1.0</td>\n",
       "      <td>1.0</td>\n",
       "      <td>2.0</td>\n",
       "      <td>https://twitter.com/BinesBastelstu1/status/123...</td>\n",
       "      <td>1.060280e+18</td>\n",
       "      <td>2020-03-10 15:00:18+00:00</td>\n",
       "      <td>None</td>\n",
       "      <td>None</td>\n",
       "      <td>None</td>\n",
       "      <td>Baden-Wuerttemberg</td>\n",
       "      <td>Heidelberg</td>\n",
       "    </tr>\n",
       "    <tr>\n",
       "      <th>1237360752526348288</th>\n",
       "      <td>in_Hemsbach</td>\n",
       "      <td>None</td>\n",
       "      <td>@g7 diebundesregierung Um die Dynamik der Coro...</td>\n",
       "      <td>0.0</td>\n",
       "      <td>0.0</td>\n",
       "      <td>0.0</td>\n",
       "      <td>https://twitter.com/in_Hemsbach/status/1237360...</td>\n",
       "      <td>1.639781e+09</td>\n",
       "      <td>2020-03-10 12:52:47+00:00</td>\n",
       "      <td>None</td>\n",
       "      <td>@G7</td>\n",
       "      <td>https://www.instagram.com/p/B9jcYX_oP7A/?igshi...</td>\n",
       "      <td>Baden-Wuerttemberg</td>\n",
       "      <td>Heidelberg</td>\n",
       "    </tr>\n",
       "  </tbody>\n",
       "</table>\n",
       "</div>"
      ],
      "text/plain": [
       "                            username               to  \\\n",
       "id                                                      \n",
       "1237467210949505024         offpulse             None   \n",
       "1237444332795412482      PauleHeyman           BB_Ger   \n",
       "1237485564309487622     MagicManShow             None   \n",
       "1237392844802801668  BinesBastelstu1  BinesBastelstu1   \n",
       "1237360752526348288      in_Hemsbach             None   \n",
       "\n",
       "                                                                  text  \\\n",
       "id                                                                       \n",
       "1237467210949505024  Der Fux‘n gibt sich jetzt mexikanisch: #RheinR...   \n",
       "1237444332795412482  #Corona is ja Egtl jetzt DIE CHANCE für sat1 d...   \n",
       "1237485564309487622  Es ist unsere Verantwortung, diejenigen Mensch...   \n",
       "1237392844802801668  Zumal die 1000 eine rein willkürliche Zahl ist...   \n",
       "1237360752526348288  @g7 diebundesregierung Um die Dynamik der Coro...   \n",
       "\n",
       "                     retweets  favorites  replies  \\\n",
       "id                                                  \n",
       "1237467210949505024       0.0        0.0      1.0   \n",
       "1237444332795412482       0.0        0.0      0.0   \n",
       "1237485564309487622       0.0        1.0      1.0   \n",
       "1237392844802801668       1.0        1.0      2.0   \n",
       "1237360752526348288       0.0        0.0      0.0   \n",
       "\n",
       "                                                             permalink  \\\n",
       "id                                                                       \n",
       "1237467210949505024  https://twitter.com/offpulse/status/1237467210...   \n",
       "1237444332795412482  https://twitter.com/PauleHeyman/status/1237444...   \n",
       "1237485564309487622  https://twitter.com/MagicManShow/status/123748...   \n",
       "1237392844802801668  https://twitter.com/BinesBastelstu1/status/123...   \n",
       "1237360752526348288  https://twitter.com/in_Hemsbach/status/1237360...   \n",
       "\n",
       "                        author_id                      date  \\\n",
       "id                                                            \n",
       "1237467210949505024  2.836726e+08 2020-03-10 19:55:48+00:00   \n",
       "1237444332795412482  1.251627e+08 2020-03-10 18:24:54+00:00   \n",
       "1237485564309487622  4.553677e+07 2020-03-10 21:08:44+00:00   \n",
       "1237392844802801668  1.060280e+18 2020-03-10 15:00:18+00:00   \n",
       "1237360752526348288  1.639781e+09 2020-03-10 12:52:47+00:00   \n",
       "\n",
       "                                                 hashtags mentions  \\\n",
       "id                                                                   \n",
       "1237467210949505024  #RheinRuhrTreff #Kolping #Bubenabend     None   \n",
       "1237444332795412482                      #Corona #BigFail     None   \n",
       "1237485564309487622                                  None     None   \n",
       "1237392844802801668                                  None     None   \n",
       "1237360752526348288                                  None      @G7   \n",
       "\n",
       "                                                                  urls  \\\n",
       "id                                                                       \n",
       "1237467210949505024             https://www.swarmapp.com/c/cGr85JWKMeq   \n",
       "1237444332795412482  https://twitter.com/BB_Ger/status/123728763058...   \n",
       "1237485564309487622  https://www.tagesspiegel.de/gesellschaft/panor...   \n",
       "1237392844802801668                                               None   \n",
       "1237360752526348288  https://www.instagram.com/p/B9jcYX_oP7A/?igshi...   \n",
       "\n",
       "                                  state                  city  \n",
       "id                                                             \n",
       "1237467210949505024  Baden-Wuerttemberg  Freiburg im Breisgau  \n",
       "1237444332795412482  Baden-Wuerttemberg  Freiburg im Breisgau  \n",
       "1237485564309487622  Baden-Wuerttemberg  Freiburg im Breisgau  \n",
       "1237392844802801668  Baden-Wuerttemberg            Heidelberg  \n",
       "1237360752526348288  Baden-Wuerttemberg            Heidelberg  "
      ]
     },
     "execution_count": 10,
     "metadata": {},
     "output_type": "execute_result"
    }
   ],
   "source": [
    "df.head(5)"
   ]
  },
  {
   "cell_type": "code",
   "execution_count": 11,
   "metadata": {},
   "outputs": [
    {
     "data": {
      "text/html": [
       "<div>\n",
       "<style scoped>\n",
       "    .dataframe tbody tr th:only-of-type {\n",
       "        vertical-align: middle;\n",
       "    }\n",
       "\n",
       "    .dataframe tbody tr th {\n",
       "        vertical-align: top;\n",
       "    }\n",
       "\n",
       "    .dataframe thead th {\n",
       "        text-align: right;\n",
       "    }\n",
       "</style>\n",
       "<table border=\"1\" class=\"dataframe\">\n",
       "  <thead>\n",
       "    <tr style=\"text-align: right;\">\n",
       "      <th></th>\n",
       "      <th>retweets</th>\n",
       "      <th>favorites</th>\n",
       "      <th>replies</th>\n",
       "      <th>author_id</th>\n",
       "    </tr>\n",
       "  </thead>\n",
       "  <tbody>\n",
       "    <tr>\n",
       "      <th>count</th>\n",
       "      <td>191800.000000</td>\n",
       "      <td>191800.000000</td>\n",
       "      <td>191800.000000</td>\n",
       "      <td>1.918000e+05</td>\n",
       "    </tr>\n",
       "    <tr>\n",
       "      <th>mean</th>\n",
       "      <td>2.299479</td>\n",
       "      <td>9.600845</td>\n",
       "      <td>1.116731</td>\n",
       "      <td>2.810279e+17</td>\n",
       "    </tr>\n",
       "    <tr>\n",
       "      <th>std</th>\n",
       "      <td>26.364300</td>\n",
       "      <td>128.223922</td>\n",
       "      <td>8.944902</td>\n",
       "      <td>4.539639e+17</td>\n",
       "    </tr>\n",
       "    <tr>\n",
       "      <th>min</th>\n",
       "      <td>0.000000</td>\n",
       "      <td>0.000000</td>\n",
       "      <td>0.000000</td>\n",
       "      <td>2.737000e+03</td>\n",
       "    </tr>\n",
       "    <tr>\n",
       "      <th>25%</th>\n",
       "      <td>0.000000</td>\n",
       "      <td>0.000000</td>\n",
       "      <td>0.000000</td>\n",
       "      <td>7.473429e+07</td>\n",
       "    </tr>\n",
       "    <tr>\n",
       "      <th>50%</th>\n",
       "      <td>0.000000</td>\n",
       "      <td>1.000000</td>\n",
       "      <td>0.000000</td>\n",
       "      <td>7.877746e+08</td>\n",
       "    </tr>\n",
       "    <tr>\n",
       "      <th>75%</th>\n",
       "      <td>1.000000</td>\n",
       "      <td>3.000000</td>\n",
       "      <td>1.000000</td>\n",
       "      <td>7.664104e+17</td>\n",
       "    </tr>\n",
       "    <tr>\n",
       "      <th>max</th>\n",
       "      <td>5373.000000</td>\n",
       "      <td>22488.000000</td>\n",
       "      <td>1195.000000</td>\n",
       "      <td>1.250482e+18</td>\n",
       "    </tr>\n",
       "  </tbody>\n",
       "</table>\n",
       "</div>"
      ],
      "text/plain": [
       "            retweets      favorites        replies     author_id\n",
       "count  191800.000000  191800.000000  191800.000000  1.918000e+05\n",
       "mean        2.299479       9.600845       1.116731  2.810279e+17\n",
       "std        26.364300     128.223922       8.944902  4.539639e+17\n",
       "min         0.000000       0.000000       0.000000  2.737000e+03\n",
       "25%         0.000000       0.000000       0.000000  7.473429e+07\n",
       "50%         0.000000       1.000000       0.000000  7.877746e+08\n",
       "75%         1.000000       3.000000       1.000000  7.664104e+17\n",
       "max      5373.000000   22488.000000    1195.000000  1.250482e+18"
      ]
     },
     "execution_count": 11,
     "metadata": {},
     "output_type": "execute_result"
    }
   ],
   "source": [
    "df.describe()"
   ]
  },
  {
   "cell_type": "code",
   "execution_count": 12,
   "metadata": {},
   "outputs": [
    {
     "data": {
      "text/plain": [
       "<matplotlib.axes._subplots.AxesSubplot at 0x1a2be045888>"
      ]
     },
     "execution_count": 12,
     "metadata": {},
     "output_type": "execute_result"
    },
    {
     "data": {
      "image/png": "[encoded data removed]",
      "text/plain": [
       "<Figure size 864x576 with 1 Axes>"
      ]
     },
     "metadata": {
      "needs_background": "light"
     },
     "output_type": "display_data"
    }
   ],
   "source": [
    "df.groupby(df.date.dt.date).size().plot.bar(figsize=(12, 8))"
   ]
  },
  {
   "cell_type": "code",
   "execution_count": 13,
   "metadata": {},
   "outputs": [],
   "source": [
    "df.sample(1000, random_state=1).to_csv(\"tweets.csv\")"
   ]
  }
 ],
 "metadata": {
  "kernelspec": {
   "display_name": "Python 3",
   "language": "python",
   "name": "python3"
  },
  "language_info": {
   "codemirror_mode": {
    "name": "ipython",
    "version": 3
   },
   "file_extension": ".py",
   "mimetype": "text/x-python",
   "name": "python",
   "nbconvert_exporter": "python",
   "pygments_lexer": "ipython3",
   "version": "3.7.6"
  }
 },
 "nbformat": 4,
 "nbformat_minor": 4
}
